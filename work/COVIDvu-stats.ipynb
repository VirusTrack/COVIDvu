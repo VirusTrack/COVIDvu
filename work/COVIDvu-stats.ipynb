{
 "cells": [
  {
   "cell_type": "markdown",
   "metadata": {},
   "source": [
    "# COVIDvu <img src='resources/UN-flag.png' align='right'>\n",
    "\n",
    "COVID-19 statistics."
   ]
  },
  {
   "cell_type": "markdown",
   "metadata": {},
   "source": [
    "---\n",
    "## Runtime prerequisites"
   ]
  },
  {
   "cell_type": "code",
   "execution_count": null,
   "metadata": {},
   "outputs": [],
   "source": [
    "%%capture --no-stderr requirementsOutput\n",
    "\n",
    "displayRequirementsOutput = False\n",
    "\n",
    "%pip install -r requirements.txt\n",
    "from covidvu.utils import autoReloadCode; autoReloadCode()"
   ]
  },
  {
   "cell_type": "code",
   "execution_count": null,
   "metadata": {},
   "outputs": [],
   "source": [
    "if displayRequirementsOutput:\n",
    "    requirementsOutput.show()"
   ]
  },
  {
   "cell_type": "markdown",
   "metadata": {},
   "source": [
    "---\n",
    "## Pull latest datasets "
   ]
  },
  {
   "cell_type": "code",
   "execution_count": null,
   "metadata": {},
   "outputs": [],
   "source": [
    "%sx ./refreshdata local patch"
   ]
  },
  {
   "cell_type": "markdown",
   "metadata": {},
   "source": [
    "---\n",
    "## Confirmed, deaths, recovered datasets"
   ]
  },
  {
   "cell_type": "code",
   "execution_count": null,
   "metadata": {},
   "outputs": [],
   "source": [
    "import os\n",
    "\n",
    "import numpy as np\n",
    "import pandas as pd\n",
    "\n",
    "from covidvu import utils\n",
    "from covidvu.cryostation import Cryostation\n",
    "\n",
    "\n",
    "pd.options.mode.chained_assignment = None"
   ]
  },
  {
   "cell_type": "code",
   "execution_count": null,
   "metadata": {},
   "outputs": [],
   "source": [
    "databasePath = './database/virustrack.db'\n",
    "with Cryostation(databasePath=databasePath) as storage:\n",
    "    confirmedCases = storage.timeSeriesFor(regionType = 'country', casesType = 'confirmed', disableProgressBar=False)"
   ]
  },
  {
   "cell_type": "code",
   "execution_count": null,
   "metadata": {},
   "outputs": [],
   "source": [
    "ROLLING_WINDOW = 7\n",
    "MIN_CASES = 100"
   ]
  },
  {
   "cell_type": "code",
   "execution_count": null,
   "metadata": {},
   "outputs": [],
   "source": [
    "confirmedCasesSmooth = (confirmedCases+1).rolling(ROLLING_WINDOW, axis=0).mean()"
   ]
  },
  {
   "cell_type": "code",
   "execution_count": null,
   "metadata": {},
   "outputs": [],
   "source": [
    "confirmedCasesSmooth[confirmedCasesSmooth < MIN_CASES] = np.nan"
   ]
  },
  {
   "cell_type": "code",
   "execution_count": null,
   "metadata": {},
   "outputs": [],
   "source": [
    "newCases = confirmedCasesSmooth.diff(axis=0)\n",
    "growthFactor = newCases/newCases.shift(1)"
   ]
  },
  {
   "cell_type": "markdown",
   "metadata": {},
   "source": [
    "---\n",
    "## Interactive plots"
   ]
  },
  {
   "cell_type": "code",
   "execution_count": null,
   "metadata": {},
   "outputs": [],
   "source": [
    "from covidvu import visualize\n",
    "from ipywidgets import widgets\n",
    "from ipywidgets import interact\n",
    "from ipywidgets import fixed"
   ]
  },
  {
   "cell_type": "code",
   "execution_count": null,
   "metadata": {},
   "outputs": [],
   "source": [
    "countries = list(confirmedCases.columns)\n",
    "multiCountry = widgets.SelectMultiple(\n",
    "    options=countries,\n",
    "    value=['US'],\n",
    "    description='Country',\n",
    "    disabled=False\n",
    ")\n",
    "log = widgets.Checkbox(value=False, description='Log scale')"
   ]
  },
  {
   "cell_type": "markdown",
   "metadata": {},
   "source": [
    "### Growth factor\n",
    "\n",
    "When the growth factor is consistently below 1, we have moved to the saturation phase."
   ]
  },
  {
   "cell_type": "code",
   "execution_count": null,
   "metadata": {},
   "outputs": [],
   "source": [
    "interact(visualize.plotTimeSeriesInteractive, \n",
    "         df=fixed(growthFactor), \n",
    "         selectedColumns=multiCountry, \n",
    "         log=log,\n",
    "         yLabel=fixed('Growth factor'),\n",
    "         title=fixed(r'COVID-19 growth factor (new cases today)/(new cases yesterday)')\n",
    ");"
   ]
  },
  {
   "cell_type": "markdown",
   "metadata": {},
   "source": [
    "## Gauge charts"
   ]
  },
  {
   "cell_type": "code",
   "execution_count": null,
   "metadata": {},
   "outputs": [],
   "source": [
    "from covidvu.pipeline.vugrowth import computeGrowth\n",
    "import plotly.graph_objects as go"
   ]
  },
  {
   "cell_type": "code",
   "execution_count": null,
   "metadata": {},
   "outputs": [],
   "source": [
    "computeGrowth(regionType = 'country', casesType = 'confirmed',               \n",
    "              todayDate = pd.to_datetime('2020-04-16').date(),\n",
    "              disableProgressBar=False,\n",
    "             )"
   ]
  },
  {
   "cell_type": "code",
   "execution_count": null,
   "metadata": {},
   "outputs": [],
   "source": [
    "countryName = 'US'"
   ]
  },
  {
   "cell_type": "code",
   "execution_count": null,
   "metadata": {},
   "outputs": [],
   "source": [
    "with Cryostation(databasePath=databasePath) as storage:\n",
    "    growthFactorUS = storage[countryName]['growth']"
   ]
  },
  {
   "cell_type": "code",
   "execution_count": null,
   "metadata": {},
   "outputs": [],
   "source": [
    "fig = go.Figure(go.Indicator(\n",
    "    domain = {'x': [0, 1], 'y': [0, 1]},\n",
    "    value = growthFactorUS['yesterday'],\n",
    "    mode = \"gauge+number+delta\",\n",
    "    title = {'text': f\"Growth factor: yesterday in {countryName}\"},\n",
    "    delta = {'reference': growthFactorUS['lastWeek'],\n",
    "             'valueformat':\".2f\",\n",
    "             'decreasing':{'color':'#5dc724'},\n",
    "             'increasing':{'color':'#ab0a0a'},\n",
    "            },\n",
    "    gauge = {\n",
    "             'steps' : [\n",
    "                 {'range': [0, 0.9], 'color': \"#5dc724\"},\n",
    "                 {'range': [0.9, 1], 'color': \"#eba417\"},\n",
    "                 {'range': [1, 3], 'color': \"#ab0a0a\"},\n",
    "             ],\n",
    "             'bar': {'color': \"#7e7c8a\"},\n",
    "             'axis': {'range': [None, 2],\n",
    "                      'tickmode': 'array', 'tickvals':[0.45, 0.95, 1.5], 'ticktext':['Flattening', \n",
    "                                                                                   'Not flat enough', \n",
    "                                                                                   'Growing'], \n",
    "                      'tickfont':{'size':20},\n",
    "                      \n",
    "                     },\n",
    "            },\n",
    "\n",
    "\n",
    ")\n",
    "               )\n",
    "\n",
    "fig.show()"
   ]
  },
  {
   "cell_type": "code",
   "execution_count": null,
   "metadata": {},
   "outputs": [],
   "source": [
    "fig = go.Figure(go.Indicator(\n",
    "    domain = {'x': [0, 1], 'y': [0, 1]},\n",
    "    value = growthFactorUS['lastWeek'],\n",
    "    mode = \"gauge+number+delta\",\n",
    "    title = {'text': f\"Growth factor: last week in {countryName}\"},\n",
    "    delta = {'reference': growthFactorUS['lastTwoWeek'],\n",
    "             'valueformat':\".2f\",\n",
    "             'decreasing':{'color':'#5dc724'},\n",
    "             'increasing':{'color':'#ab0a0a'},\n",
    "            },\n",
    "    gauge = {\n",
    "             'steps' : [\n",
    "                 {'range': [0, 0.9], 'color': \"#5dc724\"},\n",
    "                 {'range': [0.9, 1], 'color': \"#eba417\"},\n",
    "                 {'range': [1, 3], 'color': \"#ab0a0a\"},\n",
    "             ],\n",
    "             'bar': {'color': \"#7e7c8a\"},\n",
    "             'axis': {'range': [None, 2],\n",
    "                      'tickmode': 'array', 'tickvals':[0.45, 0.95, 1.5], 'ticktext':['Flattening', \n",
    "                                                                                   'Not flat enough', \n",
    "                                                                                   'Growing'], \n",
    "                      'tickfont':{'size':20},\n",
    "                      \n",
    "                     },\n",
    "            },\n",
    "\n",
    "\n",
    ")\n",
    "               )\n",
    "\n",
    "fig.show()"
   ]
  },
  {
   "cell_type": "markdown",
   "metadata": {},
   "source": [
    "---\n",
    "&#169; the COVIDvu Contributors.  All rights reserved."
   ]
  }
 ],
 "metadata": {
  "kernelspec": {
   "display_name": "Python 3",
   "language": "python",
   "name": "python3"
  },
  "language_info": {
   "codemirror_mode": {
    "name": "ipython",
    "version": 3
   },
   "file_extension": ".py",
   "mimetype": "text/x-python",
   "name": "python",
   "nbconvert_exporter": "python",
   "pygments_lexer": "ipython3",
   "version": "3.8.1"
  }
 },
 "nbformat": 4,
 "nbformat_minor": 4
}
