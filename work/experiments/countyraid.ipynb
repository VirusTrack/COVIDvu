{
 "cells": [
  {
   "cell_type": "markdown",
   "metadata": {},
   "source": [
    "# countyraid experiments\n",
    "\n",
    "## Get the data"
   ]
  },
  {
   "cell_type": "code",
   "execution_count": null,
   "metadata": {},
   "outputs": [],
   "source": [
    "import json\n",
    "import os"
   ]
  },
  {
   "cell_type": "code",
   "execution_count": null,
   "metadata": {},
   "outputs": [],
   "source": [
    "fileName = !awk -F \"[= ]\" '/COUNTY_CASES_US_FILE=/ { print($3); }' \"../refreshdata.config\""
   ]
  },
  {
   "cell_type": "code",
   "execution_count": null,
   "metadata": {},
   "outputs": [],
   "source": [
    "fileName = fileName[0].replace('\"', '')"
   ]
  },
  {
   "cell_type": "code",
   "execution_count": null,
   "metadata": {},
   "outputs": [],
   "source": [
    "fileName = os.path.join('..', fileName)\n",
    "fileName"
   ]
  },
  {
   "cell_type": "code",
   "execution_count": null,
   "metadata": {},
   "outputs": [],
   "source": [
    "with open(fileName, 'r') as inputUS:\n",
    "    regions = json.load(inputUS)"
   ]
  },
  {
   "cell_type": "code",
   "execution_count": null,
   "metadata": {},
   "outputs": [],
   "source": [
    "dataset = dict()\n",
    "for region in regions.keys():\n",
    "    state = region\n",
    "    if state not in dataset:\n",
    "        dataset[state] = dict()\n",
    "    \n",
    "    cases = regions[region]\n",
    "    dataset[region] = cases"
   ]
  },
  {
   "cell_type": "markdown",
   "metadata": {},
   "source": [
    "---\n",
    "## Plot a single state"
   ]
  },
  {
   "cell_type": "code",
   "execution_count": null,
   "metadata": {},
   "outputs": [],
   "source": [
    "import ipywidgets as widgets\n",
    "import pandas as pd\n",
    "import plotly.express as px"
   ]
  },
  {
   "cell_type": "code",
   "execution_count": null,
   "metadata": {},
   "outputs": [],
   "source": [
    "selectionBox = widgets.Dropdown(\n",
    "        options     = sorted(dataset.keys()),\n",
    "        description = 'State:',\n",
    "        disabled    = False,\n",
    "    )\n",
    "display(selectionBox)"
   ]
  },
  {
   "cell_type": "code",
   "execution_count": null,
   "metadata": {},
   "outputs": [],
   "source": [
    "state = selectionBox.value\n",
    "stateDataset = dataset[state]"
   ]
  },
  {
   "cell_type": "code",
   "execution_count": null,
   "metadata": {},
   "outputs": [],
   "source": [
    "plotDataset = pd.DataFrame([['%s - %d' % (k, stateDataset[k]['confirmed']), stateDataset[k]['confirmed']] for k in sorted(stateDataset.keys(), reverse = True)], columns = ['County', 'Confirmed'])\n",
    "index       = plotDataset.set_index('County', inplace = True)\n",
    "plotTitle   = 'Coronavirus in %s - %d confirmed cases' % (state, plotDataset['Confirmed'].sum())"
   ]
  },
  {
   "cell_type": "markdown",
   "metadata": {},
   "source": [
    "### Plotly version"
   ]
  },
  {
   "cell_type": "code",
   "execution_count": null,
   "metadata": {},
   "outputs": [],
   "source": [
    "chart = px.bar(plotDataset, y = plotDataset.index, x = 'Confirmed', orientation = 'h', title = plotTitle, width = 900, height = 1000)"
   ]
  },
  {
   "cell_type": "code",
   "execution_count": null,
   "metadata": {},
   "outputs": [],
   "source": [
    "chart.show()"
   ]
  },
  {
   "cell_type": "code",
   "execution_count": null,
   "metadata": {},
   "outputs": [],
   "source": []
  }
 ],
 "metadata": {
  "kernelspec": {
   "display_name": "Python 3",
   "language": "python",
   "name": "python3"
  },
  "language_info": {
   "codemirror_mode": {
    "name": "ipython",
    "version": 3
   },
   "file_extension": ".py",
   "mimetype": "text/x-python",
   "name": "python",
   "nbconvert_exporter": "python",
   "pygments_lexer": "ipython3",
   "version": "3.7.6"
  }
 },
 "nbformat": 4,
 "nbformat_minor": 4
}
