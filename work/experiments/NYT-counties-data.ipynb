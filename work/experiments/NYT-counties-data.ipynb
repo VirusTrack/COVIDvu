{
 "cells": [
  {
   "cell_type": "markdown",
   "metadata": {},
   "source": [
    "# NYT counties data ingress\n",
    "\n",
    "Note:  this notebook initializes the database with the time series from The New York Times counties database.\n"
   ]
  },
  {
   "cell_type": "code",
   "execution_count": null,
   "metadata": {},
   "outputs": [],
   "source": [
    "import os"
   ]
  },
  {
   "cell_type": "code",
   "execution_count": null,
   "metadata": {},
   "outputs": [],
   "source": [
    "import tqdm"
   ]
  },
  {
   "cell_type": "code",
   "execution_count": null,
   "metadata": {},
   "outputs": [],
   "source": [
    "from covidvu.cryostation import Cryostation"
   ]
  },
  {
   "cell_type": "code",
   "execution_count": null,
   "metadata": {},
   "outputs": [],
   "source": [
    "from covidvu.config import MASTER_DATABASE"
   ]
  },
  {
   "cell_type": "code",
   "execution_count": null,
   "metadata": {},
   "outputs": [],
   "source": [
    "import csv\n",
    "import shutil"
   ]
  },
  {
   "cell_type": "code",
   "execution_count": null,
   "metadata": {},
   "outputs": [],
   "source": [
    "databasePath = os.path.join('..', MASTER_DATABASE)\n",
    "databaseBackupPath = databasePath.replace('.db', '_db.bak')"
   ]
  },
  {
   "cell_type": "code",
   "execution_count": null,
   "metadata": {},
   "outputs": [],
   "source": [
    "NYT_COUNTY_DATA='../NYT-data-repository/us-counties.csv'"
   ]
  },
  {
   "cell_type": "code",
   "execution_count": null,
   "metadata": {},
   "outputs": [],
   "source": [
    "def backupDatabase():\n",
    "    shutil.copy(databasePath, databaseBackupPath)"
   ]
  },
  {
   "cell_type": "code",
   "execution_count": null,
   "metadata": {},
   "outputs": [],
   "source": [
    "def restoreDatabase():\n",
    "    shutil.copy(databaseBackupPath, databasePath)"
   ]
  },
  {
   "cell_type": "markdown",
   "metadata": {},
   "source": [
    "## Backups and get ready"
   ]
  },
  {
   "cell_type": "code",
   "execution_count": null,
   "metadata": {},
   "outputs": [],
   "source": [
    "backupDatabase()"
   ]
  },
  {
   "cell_type": "code",
   "execution_count": null,
   "metadata": {},
   "outputs": [],
   "source": [
    "with Cryostation(databasePath) as c:\n",
    "    county = c['US']['provinces']['California']['counties']['San Francisco']\n",
    "\n",
    "county"
   ]
  },
  {
   "cell_type": "markdown",
   "metadata": {},
   "source": [
    "## Extract the counties and states"
   ]
  },
  {
   "cell_type": "code",
   "execution_count": null,
   "metadata": {},
   "outputs": [],
   "source": [
    "dataset = {}"
   ]
  },
  {
   "cell_type": "code",
   "execution_count": null,
   "metadata": {},
   "outputs": [],
   "source": [
    "with open(NYT_COUNTY_DATA) as inputFile:\n",
    "    reader = csv.DictReader(inputFile)\n",
    "    \n",
    "    for element in tqdm.tqdm(reader):\n",
    "        state = element['state']\n",
    "        if state not in dataset:\n",
    "            dataset[state] = { 'counties': dict() }\n",
    "        \n",
    "        county    = element['county']\n",
    "        date      = element['date']\n",
    "        confirmed = float(element['cases'])\n",
    "        deaths    = float(element['deaths'])\n",
    "        \n",
    "        if county not in dataset[state]['counties']:\n",
    "            dataset[state]['counties'][county] = { 'confirmed': dict(), 'deaths': dict(), }\n",
    "        \n",
    "        dataset[state]['counties'][county]['confirmed'][date] = confirmed\n",
    "        dataset[state]['counties'][county]['deaths'][date] = deaths"
   ]
  },
  {
   "cell_type": "markdown",
   "metadata": {},
   "source": [
    "## Apply counties data to each state"
   ]
  },
  {
   "cell_type": "code",
   "execution_count": null,
   "metadata": {},
   "outputs": [],
   "source": [
    "with Cryostation(databasePath) as cryostation:\n",
    "    country = cryostation['US']"
   ]
  },
  {
   "cell_type": "code",
   "execution_count": null,
   "metadata": {},
   "outputs": [],
   "source": [
    "for state in tqdm.tqdm(country['provinces']):\n",
    "    if 'counties' not in country['provinces'][state]:\n",
    "        continue\n",
    "    \n",
    "    for county in country['provinces'][state]['counties']:\n",
    "        if county not in dataset[state]['counties']:\n",
    "            continue\n",
    "        country['provinces'][state]['counties'][county]['confirmed'] = dataset[state]['counties'][county]['confirmed']\n",
    "        country['provinces'][state]['counties'][county]['deaths'] = dataset[state]['counties'][county]['deaths']"
   ]
  },
  {
   "cell_type": "markdown",
   "metadata": {},
   "source": [
    "## Update the database and done"
   ]
  },
  {
   "cell_type": "code",
   "execution_count": null,
   "metadata": {},
   "outputs": [],
   "source": [
    "with Cryostation(databasePath) as cryostation:\n",
    "    cryostation['US'] = country"
   ]
  },
  {
   "cell_type": "code",
   "execution_count": null,
   "metadata": {},
   "outputs": [],
   "source": [
    "country['provinces']['California']['counties']['San Francisco']"
   ]
  },
  {
   "cell_type": "markdown",
   "metadata": {},
   "source": [
    "## Read the lastest and display a county"
   ]
  },
  {
   "cell_type": "code",
   "execution_count": null,
   "metadata": {},
   "outputs": [],
   "source": [
    "with Cryostation(databasePath) as c:\n",
    "    county = c['US']['provinces']['California']['counties']['San Francisco']"
   ]
  },
  {
   "cell_type": "code",
   "execution_count": null,
   "metadata": {},
   "outputs": [],
   "source": [
    "county"
   ]
  },
  {
   "cell_type": "code",
   "execution_count": null,
   "metadata": {},
   "outputs": [],
   "source": [
    "restoreDatabase()"
   ]
  },
  {
   "cell_type": "code",
   "execution_count": null,
   "metadata": {},
   "outputs": [],
   "source": []
  }
 ],
 "metadata": {
  "kernelspec": {
   "display_name": "Python 3",
   "language": "python",
   "name": "python3"
  },
  "language_info": {
   "codemirror_mode": {
    "name": "ipython",
    "version": 3
   },
   "file_extension": ".py",
   "mimetype": "text/x-python",
   "name": "python",
   "nbconvert_exporter": "python",
   "pygments_lexer": "ipython3",
   "version": "3.7.6"
  }
 },
 "nbformat": 4,
 "nbformat_minor": 4
}
