{
 "cells": [
  {
   "cell_type": "markdown",
   "metadata": {},
   "source": [
    "# Пиявка - Python-based completion\n",
    "\n",
    "Kludgier than we expected because we had to hack a somewhat reliable data source here.\n",
    "---\n",
    "## Setup"
   ]
  },
  {
   "cell_type": "code",
   "execution_count": null,
   "metadata": {},
   "outputs": [],
   "source": [
    "import csv\n",
    "import json\n",
    "import datetime"
   ]
  },
  {
   "cell_type": "markdown",
   "metadata": {},
   "source": [
    "---\n",
    "## World"
   ]
  },
  {
   "cell_type": "code",
   "execution_count": null,
   "metadata": {},
   "outputs": [],
   "source": [
    "rawSource = 'site-data/scraped-world.tsv'\n",
    "\n",
    "updateWorld = dict()\n",
    "today  = datetime.date.today().strftime(\"%m-%d-%Y\")\n",
    "with open(rawSource, 'r') as inputFile:\n",
    "    rawData = csv.DictReader(inputFile, delimiter = '\\t')\n",
    "    for row in rawData:\n",
    "        if 'Diamond' not in row['OTHER PLACES']:\n",
    "                updateWorld[row['OTHER PLACES']] = { today: float(row['Cases'])}\n",
    "\n",
    "if 'Queue' in updateWorld:\n",
    "    del(updateWorld['Queue'])\n",
    "\n",
    "updateWorld['US'] = updateWorld['United States']\n",
    "del(updateWorld['United States'])\n",
    "updateWorld['UK'] = updateWorld['United Kingdom']\n",
    "del(updateWorld['United Kingdom'])\n",
    "updateWorld['Denmark'] = updateWorld['Denmark*']\n",
    "del(updateWorld['Denmark*'])\n",
    "updateWorld['United Arab Emirates'] = updateWorld['UAE']\n",
    "del(updateWorld['UAE'])\n",
    "updateWorld['Bosnia and Herzegovina'] = updateWorld['Bosnia']\n",
    "del(updateWorld['Bosnia'])\n",
    "# UK same thing\n",
    "updateWorld['US']"
   ]
  },
  {
   "cell_type": "code",
   "execution_count": null,
   "metadata": {},
   "outputs": [],
   "source": [
    "with open('site-data/deaths.json', 'r') as inputFile:\n",
    "    dataWorld = json.load(inputFile)\n",
    "\n",
    "# Not in the list\n",
    "dataWorld['Turkey'] = { today: 0.0, }"
   ]
  },
  {
   "cell_type": "code",
   "execution_count": null,
   "metadata": {},
   "outputs": [],
   "source": [
    "for country in updateWorld.keys():\n",
    "    dataWorld[country][today] = updateWorld[country][today]\n",
    "\n",
    "dataWorld['Denmark'][today]"
   ]
  },
  {
   "cell_type": "markdown",
   "metadata": {},
   "source": [
    "---\n",
    "## United States"
   ]
  },
  {
   "cell_type": "code",
   "execution_count": null,
   "metadata": {},
   "outputs": [],
   "source": [
    "rawSource = 'site-data/scraped-US.tsv'\n",
    "\n",
    "updateUS = dict()\n",
    "\n",
    "with open(rawSource, 'r') as inputFile:\n",
    "    rawData = csv.DictReader(inputFile, delimiter = \"\\t\")\n",
    "    for row in rawData:\n",
    "        updateUS[row['UNITED STATES']] = { today: float(row['Cases'])}\n",
    "\n",
    "updateUS['Washington D.C.'] = updateUS['District of Columbia']\n",
    "del(updateUS['District of Columbia'])"
   ]
  },
  {
   "cell_type": "code",
   "execution_count": null,
   "metadata": {},
   "outputs": [],
   "source": [
    "updateUS"
   ]
  },
  {
   "cell_type": "code",
   "execution_count": null,
   "metadata": {},
   "outputs": [],
   "source": [
    "with open('site-data/confirmed-US.json', 'r') as inputFile:\n",
    "    dataUS = json.load(inputFile)\n",
    "\n",
    "dataUS['Grand Princess'] = { today: 0.0, }"
   ]
  },
  {
   "cell_type": "code",
   "execution_count": null,
   "metadata": {},
   "outputs": [],
   "source": [
    "for state in updateUS.keys():\n",
    "    dataUS[state][today] = updateUS[state][today]\n",
    "\n",
    "dataUS['California']"
   ]
  },
  {
   "cell_type": "markdown",
   "metadata": {},
   "source": [
    "---\n",
    "## US Regions\n"
   ]
  },
  {
   "cell_type": "code",
   "execution_count": null,
   "metadata": {},
   "outputs": [],
   "source": [
    "from covidvu.vujson import US_REGIONS_LONG"
   ]
  },
  {
   "cell_type": "code",
   "execution_count": null,
   "metadata": {},
   "outputs": [],
   "source": [
    "with open('site-data/confirmed-US.json', 'r') as inputFile:\n",
    "    dataUSRegions = json.load(inputFile)\n",
    "\n",
    "updateUSRegions = dict()\n",
    "\n",
    "for state in updateUS:\n",
    "    if US_REGIONS_LONG[state] not in updateUSRegions:\n",
    "        updateUSRegions[US_REGIONS_LONG[state]] = { today: 0.0 }\n",
    "    \n",
    "    updateUSRegions[US_REGIONS_LONG[state]][today] += float(updateUS[state][today])\n",
    "\n",
    "updateUSRegions"
   ]
  },
  {
   "cell_type": "markdown",
   "metadata": {},
   "source": [
    "---\n",
    "## Calculate total US cases from JH CSSE data"
   ]
  },
  {
   "cell_type": "code",
   "execution_count": null,
   "metadata": {},
   "outputs": [],
   "source": [
    "from covidvu.vujson import JH_CSSE_FILE_CONFIRMED\n",
    "import pandas as pd\n",
    "\n",
    "cases = pd.read_csv(JH_CSSE_FILE_CONFIRMED)\n",
    "cases.groupby('Country/Region').sum().T['US'].tail()"
   ]
  },
  {
   "cell_type": "code",
   "execution_count": null,
   "metadata": {},
   "outputs": [],
   "source": [
    "cases = pd.read_csv(JH_CSSE_FILE_CONFIRMED)\n",
    "cases"
   ]
  },
  {
   "cell_type": "markdown",
   "metadata": {},
   "source": [
    "---\n",
    "&#169; the COVIDvu Contributors.  All rights reserved"
   ]
  }
 ],
 "metadata": {
  "kernelspec": {
   "display_name": "Python 3",
   "language": "python",
   "name": "python3"
  },
  "language_info": {
   "codemirror_mode": {
    "name": "ipython",
    "version": 3
   },
   "file_extension": ".py",
   "mimetype": "text/x-python",
   "name": "python",
   "nbconvert_exporter": "python",
   "pygments_lexer": "ipython3",
   "version": "3.7.6"
  }
 },
 "nbformat": 4,
 "nbformat_minor": 4
}
