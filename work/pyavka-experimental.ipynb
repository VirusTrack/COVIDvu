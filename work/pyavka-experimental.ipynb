{
 "cells": [
  {
   "cell_type": "markdown",
   "metadata": {},
   "source": [
    "# Пиявка - Python-based completion\n",
    "\n",
    "Kludgier than we expected because we had to hack a somewhat reliable data source here.\n",
    "---\n",
    "## Setup"
   ]
  },
  {
   "cell_type": "code",
   "execution_count": 92,
   "metadata": {},
   "outputs": [],
   "source": [
    "import csv\n",
    "import json\n",
    "import datetime"
   ]
  },
  {
   "cell_type": "markdown",
   "metadata": {},
   "source": [
    "---\n",
    "## World"
   ]
  },
  {
   "cell_type": "code",
   "execution_count": 93,
   "metadata": {},
   "outputs": [
    {
     "data": {
      "text/plain": [
       "{'03-11-2020': 975.0}"
      ]
     },
     "execution_count": 93,
     "metadata": {},
     "output_type": "execute_result"
    }
   ],
   "source": [
    "rawSource = 'site-data/scraped-world.tsv'\n",
    "\n",
    "updateWorld = dict()\n",
    "today  = datetime.date.today().strftime(\"%m-%d-%Y\")\n",
    "with open(rawSource, 'r') as inputFile:\n",
    "    rawData = csv.DictReader(inputFile, delimiter = '\\t')\n",
    "    for row in rawData:\n",
    "        if 'Diamond' not in row['OTHER PLACES']:\n",
    "                updateWorld[row['OTHER PLACES']] = { today: float(row['Cases'])}\n",
    "\n",
    "if 'Queue' in updateWorld:\n",
    "    del(updateWorld['Queue'])\n",
    "\n",
    "updateWorld['US'] = updateWorld['United States']\n",
    "del(updateWorld['United States'])\n",
    "updateWorld['UK'] = updateWorld['United Kingdom']\n",
    "del(updateWorld['United Kingdom'])\n",
    "updateWorld['Denmark'] = updateWorld['Denmark*']\n",
    "del(updateWorld['Denmark*'])\n",
    "updateWorld['United Arab Emirates'] = updateWorld['UAE']\n",
    "del(updateWorld['UAE'])\n",
    "updateWorld['Bosnia and Herzegovina'] = updateWorld['Bosnia']\n",
    "del(updateWorld['Bosnia'])\n",
    "# UK same thing\n",
    "updateWorld['US']"
   ]
  },
  {
   "cell_type": "code",
   "execution_count": 101,
   "metadata": {},
   "outputs": [],
   "source": [
    "with open('site-data/deaths.json', 'r') as inputFile:\n",
    "    dataWorld = json.load(inputFile)\n",
    "\n",
    "# Not in the list\n",
    "dataWorld['Turkey'] = { today: 0.0, }"
   ]
  },
  {
   "cell_type": "code",
   "execution_count": 104,
   "metadata": {},
   "outputs": [
    {
     "data": {
      "text/plain": [
       "264.0"
      ]
     },
     "execution_count": 104,
     "metadata": {},
     "output_type": "execute_result"
    }
   ],
   "source": [
    "for country in updateWorld.keys():\n",
    "    dataWorld[country][today] = updateWorld[country][today]\n",
    "\n",
    "dataWorld['Denmark'][today]"
   ]
  },
  {
   "cell_type": "markdown",
   "metadata": {},
   "source": [
    "---\n",
    "## United States"
   ]
  },
  {
   "cell_type": "code",
   "execution_count": 115,
   "metadata": {},
   "outputs": [],
   "source": [
    "rawSource = 'site-data/scraped-US.tsv'\n",
    "\n",
    "updateUS = dict()\n",
    "\n",
    "with open(rawSource, 'r') as inputFile:\n",
    "    rawData = csv.DictReader(inputFile, delimiter = \"\\t\")\n",
    "    for row in rawData:\n",
    "        updateUS[row['UNITED STATES']] = { today: float(row['Cases'])}\n",
    "\n",
    "updateUS['Washington D.C.'] = updateUS['District of Columbia']\n",
    "del(updateUS['District of Columbia'])"
   ]
  },
  {
   "cell_type": "code",
   "execution_count": 116,
   "metadata": {},
   "outputs": [
    {
     "data": {
      "text/plain": [
       "{'Washington': {'03-11-2020': 267.0},\n",
       " 'New York': {'03-11-2020': 173.0},\n",
       " 'California': {'03-11-2020': 102.0},\n",
       " 'Massachusetts': {'03-11-2020': 92.0},\n",
       " 'Illinois': {'03-11-2020': 19.0},\n",
       " 'New Jersey': {'03-11-2020': 15.0},\n",
       " 'Oregon': {'03-11-2020': 15.0},\n",
       " 'Florida': {'03-11-2020': 13.0},\n",
       " 'Pennsylvania': {'03-11-2020': 11.0},\n",
       " 'Georgia': {'03-11-2020': 11.0},\n",
       " 'Colorado': {'03-11-2020': 8.0},\n",
       " 'Kentucky': {'03-11-2020': 8.0},\n",
       " 'Texas': {'03-11-2020': 7.0},\n",
       " 'Maryland': {'03-11-2020': 6.0},\n",
       " 'South Carolina': {'03-11-2020': 6.0},\n",
       " 'Arizona': {'03-11-2020': 5.0},\n",
       " 'North Dakota': {'03-11-2020': 5.0},\n",
       " 'New Hampshire': {'03-11-2020': 4.0},\n",
       " 'Nevada': {'03-11-2020': 4.0},\n",
       " 'Rhode Island': {'03-11-2020': 3.0},\n",
       " 'Tennessee': {'03-11-2020': 3.0},\n",
       " 'Iowa': {'03-11-2020': 3.0},\n",
       " 'Ohio': {'03-11-2020': 3.0},\n",
       " 'Minnesota': {'03-11-2020': 3.0},\n",
       " 'Wisconsin': {'03-11-2020': 3.0},\n",
       " 'North Carolina': {'03-11-2020': 2.0},\n",
       " 'Indiana': {'03-11-2020': 2.0},\n",
       " 'Hawaii': {'03-11-2020': 2.0},\n",
       " 'Vermont': {'03-11-2020': 1.0},\n",
       " 'Utah': {'03-11-2020': 1.0},\n",
       " 'Kansas': {'03-11-2020': 1.0},\n",
       " 'Missouri': {'03-11-2020': 1.0},\n",
       " 'Oklahoma': {'03-11-2020': 1.0},\n",
       " 'Nebraska': {'03-11-2020': 1.0},\n",
       " 'Connecticut': {'03-11-2020': 1.0},\n",
       " 'Louisiana': {'03-11-2020': 1.0},\n",
       " 'Grand Princess': {'03-11-2020': 21.0},\n",
       " 'Diamond Princess': {'03-11-2020': 45.0},\n",
       " 'Alabama': {'03-11-2020': 0.0},\n",
       " 'Alaska': {'03-11-2020': 0.0},\n",
       " 'Arkansas': {'03-11-2020': 0.0},\n",
       " 'Delaware': {'03-11-2020': 0.0},\n",
       " 'Idaho': {'03-11-2020': 0.0},\n",
       " 'Maine': {'03-11-2020': 0.0},\n",
       " 'Michigan': {'03-11-2020': 0.0},\n",
       " 'Mississippi': {'03-11-2020': 0.0},\n",
       " 'Montana': {'03-11-2020': 0.0},\n",
       " 'New Mexico': {'03-11-2020': 0.0},\n",
       " 'South Dakota': {'03-11-2020': 0.0},\n",
       " 'Wyoming': {'03-11-2020': 0.0},\n",
       " 'Washington D.C.': {'03-11-2020': 1.0}}"
      ]
     },
     "execution_count": 116,
     "metadata": {},
     "output_type": "execute_result"
    }
   ],
   "source": [
    "updateUS"
   ]
  },
  {
   "cell_type": "code",
   "execution_count": 117,
   "metadata": {},
   "outputs": [],
   "source": [
    "with open('site-data/confirmed-US.json', 'r') as inputFile:\n",
    "    dataUS = json.load(inputFile)\n",
    "\n",
    "dataUS['Grand Princess'] = { today: 0.0, }"
   ]
  },
  {
   "cell_type": "code",
   "execution_count": 118,
   "metadata": {},
   "outputs": [
    {
     "data": {
      "text/plain": [
       "{'01/22/2020': 0,\n",
       " '01/23/2020': 0,\n",
       " '01/24/2020': 0,\n",
       " '01/25/2020': 0,\n",
       " '01/26/2020': 2,\n",
       " '01/27/2020': 2,\n",
       " '01/28/2020': 2,\n",
       " '01/29/2020': 2,\n",
       " '01/30/2020': 2,\n",
       " '01/31/2020': 3,\n",
       " '02/01/2020': 3,\n",
       " '02/02/2020': 3,\n",
       " '02/03/2020': 6,\n",
       " '02/04/2020': 6,\n",
       " '02/05/2020': 6,\n",
       " '02/06/2020': 6,\n",
       " '02/07/2020': 6,\n",
       " '02/08/2020': 6,\n",
       " '02/09/2020': 6,\n",
       " '02/10/2020': 6,\n",
       " '02/11/2020': 7,\n",
       " '02/12/2020': 7,\n",
       " '02/13/2020': 8,\n",
       " '02/14/2020': 8,\n",
       " '02/15/2020': 8,\n",
       " '02/16/2020': 8,\n",
       " '02/17/2020': 8,\n",
       " '02/18/2020': 8,\n",
       " '02/19/2020': 8,\n",
       " '02/20/2020': 8,\n",
       " '02/21/2020': 15,\n",
       " '02/22/2020': 15,\n",
       " '02/23/2020': 15,\n",
       " '02/24/2020': 10,\n",
       " '02/25/2020': 10,\n",
       " '02/26/2020': 10,\n",
       " '02/27/2020': 11,\n",
       " '02/28/2020': 11,\n",
       " '02/29/2020': 12,\n",
       " '03/01/2020': 12,\n",
       " '03/02/2020': 21,\n",
       " '03/03/2020': 25,\n",
       " '03/04/2020': 35,\n",
       " '03/05/2020': 51,\n",
       " '03/06/2020': 59,\n",
       " '03/07/2020': 81,\n",
       " '03/08/2020': 98,\n",
       " '03/09/2020': 104,\n",
       " '03-11-2020': 102.0}"
      ]
     },
     "execution_count": 118,
     "metadata": {},
     "output_type": "execute_result"
    }
   ],
   "source": [
    "for state in updateUS.keys():\n",
    "    dataUS[state][today] = updateUS[state][today]\n",
    "\n",
    "dataUS['California']"
   ]
  },
  {
   "cell_type": "markdown",
   "metadata": {},
   "source": [
    "---\n",
    "## US Regions\n"
   ]
  },
  {
   "cell_type": "code",
   "execution_count": 87,
   "metadata": {},
   "outputs": [],
   "source": [
    "from covidvu.vujson import US_REGIONS_LONG"
   ]
  },
  {
   "cell_type": "code",
   "execution_count": 119,
   "metadata": {},
   "outputs": [
    {
     "data": {
      "text/plain": [
       "{'West': {'03-11-2020': 404.0},\n",
       " 'Northeast': {'03-11-2020': 306.0},\n",
       " 'Midwest': {'03-11-2020': 41.0},\n",
       " 'South': {'03-11-2020': 46.0},\n",
       " 'TX': {'03-11-2020': 7.0},\n",
       " 'Grand Princess': {'03-11-2020': 21.0},\n",
       " 'Diamond Princess': {'03-11-2020': 45.0}}"
      ]
     },
     "execution_count": 119,
     "metadata": {},
     "output_type": "execute_result"
    }
   ],
   "source": [
    "with open('site-data/confirmed-US.json', 'r') as inputFile:\n",
    "    dataUSRegions = json.load(inputFile)\n",
    "\n",
    "updateUSRegions = dict()\n",
    "\n",
    "for state in updateUS:\n",
    "    if US_REGIONS_LONG[state] not in updateUSRegions:\n",
    "        updateUSRegions[US_REGIONS_LONG[state]] = { today: 0.0 }\n",
    "    \n",
    "    updateUSRegions[US_REGIONS_LONG[state]][today] += float(updateUS[state][today])\n",
    "\n",
    "updateUSRegions"
   ]
  },
  {
   "cell_type": "markdown",
   "metadata": {},
   "source": [
    "---\n",
    "&#169; the COVIDvu Contributors.  All rights reserved"
   ]
  }
 ],
 "metadata": {
  "kernelspec": {
   "display_name": "Python 3",
   "language": "python",
   "name": "python3"
  },
  "language_info": {
   "codemirror_mode": {
    "name": "ipython",
    "version": 3
   },
   "file_extension": ".py",
   "mimetype": "text/x-python",
   "name": "python",
   "nbconvert_exporter": "python",
   "pygments_lexer": "ipython3",
   "version": "3.7.6"
  }
 },
 "nbformat": 4,
 "nbformat_minor": 4
}
