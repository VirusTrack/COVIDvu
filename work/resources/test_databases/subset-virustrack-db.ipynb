{
 "cells": [
  {
   "cell_type": "markdown",
   "metadata": {},
   "source": [
    "# Make reasonable subset of `virustrack.db` for testing"
   ]
  },
  {
   "cell_type": "code",
   "execution_count": null,
   "metadata": {},
   "outputs": [],
   "source": [
    "import os\n",
    "\n",
    "import numpy as np\n",
    "import pandas as pd\n",
    "\n",
    "from covidvu.utils import autoReloadCode; autoReloadCode()\n",
    "from covidvu.cryostation import Cryostation\n",
    "from covidvu.pipeline.vugrowth import computeGrowth, TODAY_DATE\n",
    "\n",
    "from tqdm.auto import tqdm"
   ]
  },
  {
   "cell_type": "code",
   "execution_count": null,
   "metadata": {},
   "outputs": [],
   "source": [
    "MASTER_DATABASE = '../../database/virustrack.db'\n",
    "TEST_DB = 'test-virustrack-v2.db'\n",
    "storageTest = Cryostation(TEST_DB)\n",
    "storageTest['US'] = { 'key': 'US' }\n",
    "storageTest.close()"
   ]
  },
  {
   "cell_type": "markdown",
   "metadata": {},
   "source": [
    "Get 3 US states"
   ]
  },
  {
   "cell_type": "code",
   "execution_count": null,
   "metadata": {},
   "outputs": [],
   "source": [
    "with Cryostation(TEST_DB) as cryostationTest:\n",
    "    with Cryostation(MASTER_DATABASE) as cryostation:        \n",
    "        unitedStates = cryostation['US']\n",
    "        california = {'confirmed': unitedStates['provinces']['California']['confirmed']}\n",
    "        newYork = {'confirmed': unitedStates['provinces']['New York']['confirmed']}\n",
    "        newJersey = {'confirmed': unitedStates['provinces']['New Jersey']['confirmed']}\n",
    "        \n",
    "        \n",
    "        item = {'confirmed':unitedStates['confirmed'],\n",
    "                'provinces':{'California': california,\n",
    "                                 'New York': newYork,\n",
    "                                 'New Jersey': newJersey,\n",
    "                                }}\n",
    "        item['key'] = 'US'\n",
    "            \n",
    "        cryostationTest['US'] = item"
   ]
  },
  {
   "cell_type": "markdown",
   "metadata": {},
   "source": [
    "Append 2 other countries"
   ]
  },
  {
   "cell_type": "code",
   "execution_count": null,
   "metadata": {},
   "outputs": [],
   "source": [
    "with Cryostation(TEST_DB) as cryostationTest:\n",
    "    with Cryostation(MASTER_DATABASE) as cryostation:        \n",
    "        italy = {'confirmed': cryostation['Italy']['confirmed']}\n",
    "        italy['key'] = 'Italy'\n",
    "        \n",
    "        uk = {'confirmed': cryostation['United Kingdom']['confirmed']}\n",
    "        uk['key'] = 'United Kingdom'\n",
    "        \n",
    "            \n",
    "        cryostationTest['Italy'] = italy\n",
    "        cryostationTest['United Kingdom'] = uk"
   ]
  },
  {
   "cell_type": "code",
   "execution_count": null,
   "metadata": {},
   "outputs": [],
   "source": [
    "with Cryostation(TEST_DB) as cryostationTest:\n",
    "    with Cryostation(MASTER_DATABASE) as cryostation:  \n",
    "        assert cryostationTest['US']['provinces']['New York']['confirmed'] == cryostation['US']['provinces']['New York']['confirmed']\n",
    "        assert cryostationTest['US']['confirmed'] == cryostation['US']['confirmed']\n",
    "        assert cryostationTest['Italy']['confirmed'] == cryostation['Italy']['confirmed']\n",
    "        "
   ]
  },
  {
   "cell_type": "markdown",
   "metadata": {},
   "source": [
    "---"
   ]
  },
  {
   "cell_type": "markdown",
   "metadata": {},
   "source": [
    "## Add growth"
   ]
  },
  {
   "cell_type": "code",
   "execution_count": null,
   "metadata": {},
   "outputs": [],
   "source": [
    "countryName = 'US'\n",
    "stateName = 'New York'"
   ]
  },
  {
   "cell_type": "code",
   "execution_count": null,
   "metadata": {},
   "outputs": [],
   "source": [
    "with Cryostation(TEST_DB) as cryostationTest:\n",
    "    country = cryostationTest[countryName]\n",
    "    province = country['provinces'][stateName]\n",
    "    province['growth'] = dict()\n",
    "    country['provinces'][stateName] = province\n",
    "    cryostationTest[countryName] = country"
   ]
  },
  {
   "cell_type": "code",
   "execution_count": null,
   "metadata": {},
   "outputs": [],
   "source": [
    "with Cryostation(TEST_DB) as cryostationTest:\n",
    "    x = cryostationTest[countryName]['provinces']['New York']['growth']\n",
    "x"
   ]
  },
  {
   "cell_type": "markdown",
   "metadata": {},
   "source": [
    "---"
   ]
  },
  {
   "cell_type": "markdown",
   "metadata": {},
   "source": [
    "# Remove growth"
   ]
  },
  {
   "cell_type": "markdown",
   "metadata": {},
   "source": [
    "TODO: Complete this"
   ]
  },
  {
   "cell_type": "code",
   "execution_count": null,
   "metadata": {},
   "outputs": [],
   "source": [
    "from tinydb import where"
   ]
  },
  {
   "cell_type": "code",
   "execution_count": null,
   "metadata": {},
   "outputs": [],
   "source": [
    "cryostationTest = Cryostation(TEST_DB) "
   ]
  },
  {
   "cell_type": "code",
   "execution_count": null,
   "metadata": {},
   "outputs": [],
   "source": [
    "cryostationTest.close()"
   ]
  },
  {
   "cell_type": "code",
   "execution_count": null,
   "metadata": {},
   "outputs": [],
   "source": []
  }
 ],
 "metadata": {
  "kernelspec": {
   "display_name": "Python 3",
   "language": "python",
   "name": "python3"
  },
  "language_info": {
   "codemirror_mode": {
    "name": "ipython",
    "version": 3
   },
   "file_extension": ".py",
   "mimetype": "text/x-python",
   "name": "python",
   "nbconvert_exporter": "python",
   "pygments_lexer": "ipython3",
   "version": "3.8.1"
  }
 },
 "nbformat": 4,
 "nbformat_minor": 4
}
