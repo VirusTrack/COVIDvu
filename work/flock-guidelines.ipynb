{
 "cells": [
  {
   "cell_type": "markdown",
   "metadata": {},
   "source": [
    "# flock guidelines\n",
    "\n",
    "The servers use `flock` to marshal access to the `./database` resources and prevent collisions.\n",
    "\n",
    "See:  [`man flock`](https://manpages.ubuntu.com/manpages/xenial/man1/flock.1.html) for details (Linux, Ubuntu man page)"
   ]
  },
  {
   "cell_type": "markdown",
   "metadata": {},
   "source": [
    "```bash\n",
    "# Examples.\n",
    "SHELL=\"/bin/bash\"\n",
    "\n",
    "# -- General datasets pull\n",
    "03  */4 * * * cd /home/covidvu/production/work > /dev/null && flock \"$DATABASE_FLOCK\" ./refreshdata test\n",
    "\n",
    "# --- fetch county datasets ---\n",
    "58 */4 * * * cd /home/covidvu/production/work > /dev/null && flock \"$DATABASE_FLOCK\" ./countyraid\n",
    "\n",
    "# -- run the predictions --\n",
    "03 23 * * * cd /home/covidvu/production/work > /dev/null && flock \"$DATABASE_FLOCK\" ./crystalball                                                                                                                                         \n",
    "```"
   ]
  },
  {
   "cell_type": "markdown",
   "metadata": {},
   "source": [
    "---\n",
    "&#169; the VirusTrack/COVIDvu open source team"
   ]
  }
 ],
 "metadata": {
  "kernelspec": {
   "display_name": "Python 3",
   "language": "python",
   "name": "python3"
  },
  "language_info": {
   "codemirror_mode": {
    "name": "ipython",
    "version": 3
   },
   "file_extension": ".py",
   "mimetype": "text/x-python",
   "name": "python",
   "nbconvert_exporter": "python",
   "pygments_lexer": "ipython3",
   "version": "3.7.6"
  }
 },
 "nbformat": 4,
 "nbformat_minor": 4
}
