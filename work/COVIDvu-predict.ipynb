{
 "cells": [
  {
   "cell_type": "markdown",
   "metadata": {},
   "source": [
    "# COVIDvu <img src='resources/UN-flag.png' align='right'>\n",
    "\n",
    "COVID-19 view various charts."
   ]
  },
  {
   "cell_type": "markdown",
   "metadata": {},
   "source": [
    "---\n",
    "## Runtime prerequisites"
   ]
  },
  {
   "cell_type": "code",
   "execution_count": null,
   "metadata": {},
   "outputs": [],
   "source": [
    "%%capture --no-stderr requirementsOutput\n",
    "\n",
    "displayRequirementsOutput = False\n",
    "\n",
    "%pip install -r requirements.txt\n",
    "from covidvu.utils import autoReloadCode; autoReloadCode()"
   ]
  },
  {
   "cell_type": "code",
   "execution_count": null,
   "metadata": {},
   "outputs": [],
   "source": [
    "if displayRequirementsOutput:\n",
    "    requirementsOutput.show()"
   ]
  },
  {
   "cell_type": "markdown",
   "metadata": {},
   "source": [
    "---\n",
    "## Pull latest datasets from the JH CSSE GitHub repository\n",
    "\n",
    "This function is `crontab` ready; it can be called from here, the command line, or as a system job."
   ]
  },
  {
   "cell_type": "code",
   "execution_count": null,
   "metadata": {},
   "outputs": [],
   "source": [
    "%%bash\n",
    "./refreshdata local"
   ]
  },
  {
   "cell_type": "markdown",
   "metadata": {},
   "source": [
    "---\n",
    "## Predict cases for all countries (requires pre-training)\n",
    "\n",
    "From `./work` please run\n",
    "\n",
    "```\n",
    "python covidvu/predict.py all\n",
    "```\n",
    "\n",
    "before running these cells"
   ]
  },
  {
   "cell_type": "code",
   "execution_count": null,
   "metadata": {},
   "outputs": [],
   "source": [
    "from covidvu.predict import loadAll\n",
    "from covidvu.visualize import plotDataAndPredictionsWithCI\n",
    "from ipywidgets import widgets\n",
    "from ipywidgets import interact\n",
    "from ipywidgets import fixed"
   ]
  },
  {
   "cell_type": "code",
   "execution_count": null,
   "metadata": {},
   "outputs": [],
   "source": [
    "confirmedCasesAll, meanPredictionTSAll, percentilesTSAll = loadAll()"
   ]
  },
  {
   "cell_type": "code",
   "execution_count": null,
   "metadata": {},
   "outputs": [],
   "source": [
    "countryNameAll = meanPredictionTSAll.columns"
   ]
  },
  {
   "cell_type": "code",
   "execution_count": null,
   "metadata": {},
   "outputs": [],
   "source": [
    "multiCountry = widgets.SelectMultiple(\n",
    "    options=countryNameAll,\n",
    "    value=[countryNameAll[0]],\n",
    "    description='Country Index',\n",
    "    disabled=False\n",
    ")\n",
    "log = widgets.Checkbox(value=True, description='Log scale')"
   ]
  },
  {
   "cell_type": "code",
   "execution_count": null,
   "metadata": {},
   "outputs": [],
   "source": [
    "interact(plotDataAndPredictionsWithCI,\n",
    "         meanPredictionTSAll=fixed(meanPredictionTSAll),\n",
    "         confirmedCasesAll=fixed(confirmedCasesAll),         \n",
    "         percentilesTSAll=fixed(percentilesTSAll),\n",
    "         cmapName=fixed('Reds'),\n",
    "         selectedColumns=multiCountry,         \n",
    "         log=log\n",
    "        );"
   ]
  },
  {
   "cell_type": "markdown",
   "metadata": {},
   "source": [
    "# Long-term forecast"
   ]
  },
  {
   "cell_type": "code",
   "execution_count": null,
   "metadata": {},
   "outputs": [],
   "source": [
    "from covidvu.predict import buildLogisticModel\n",
    "from covidvu.predict import _dumpRegionPrediction\n",
    "from covidvu.predict import predictLogisticGrowth\n",
    "from covidvu.predict import PREDICTIONS_PERCENTILES\n",
    "from covidvu.predict import PRIOR_GROWTH_RATE\n",
    "from covidvu.predict import PRIOR_MID_POINT\n",
    "from covidvu.predict import PRIOR_SIGMA\n",
    "from covidvu.pipeline.vujson import SITE_DATA\n",
    "from covidvu.predict import load\n",
    "import numpy as np\n",
    "import pandas as pd"
   ]
  },
  {
   "cell_type": "code",
   "execution_count": null,
   "metadata": {},
   "outputs": [],
   "source": [
    "logRegModel = buildLogisticModel((0,np.log10((327.2e6*0.8))),\n",
    "                                 PRIOR_MID_POINT,\n",
    "                                 PRIOR_GROWTH_RATE,\n",
    "                                 PRIOR_SIGMA,\n",
    "                                )"
   ]
  },
  {
   "cell_type": "code",
   "execution_count": null,
   "metadata": {},
   "outputs": [],
   "source": [
    "prediction = predictLogisticGrowth(logRegModel, countryName='United Kingdom', nDaysPredict=30*2, maxTreedepth=12)\n",
    "_dumpRegionPrediction(prediction, SITE_DATA, PREDICTIONS_PERCENTILES)"
   ]
  },
  {
   "cell_type": "code",
   "execution_count": null,
   "metadata": {},
   "outputs": [],
   "source": [
    "prediction = predictLogisticGrowth(logRegModel, countryName='US', nDaysPredict=30*2, maxTreedepth=12)\n",
    "_dumpRegionPrediction(prediction, SITE_DATA, PREDICTIONS_PERCENTILES)"
   ]
  },
  {
   "cell_type": "markdown",
   "metadata": {},
   "source": [
    "---\n",
    "&#169; the COVIDvu Contributors.  All rights reserved."
   ]
  }
 ],
 "metadata": {
  "kernelspec": {
   "display_name": "Python 3",
   "language": "python",
   "name": "python3"
  },
  "language_info": {
   "codemirror_mode": {
    "name": "ipython",
    "version": 3
   },
   "file_extension": ".py",
   "mimetype": "text/x-python",
   "name": "python",
   "nbconvert_exporter": "python",
   "pygments_lexer": "ipython3",
   "version": "3.8.1"
  }
 },
 "nbformat": 4,
 "nbformat_minor": 4
}
