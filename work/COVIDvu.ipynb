{
 "cells": [
  {
   "cell_type": "markdown",
   "metadata": {},
   "source": [
    "# COVIDvu <img src='resources/UN-flag.png' align='right'>\n",
    "\n",
    "COVID-19 view various charts."
   ]
  },
  {
   "cell_type": "markdown",
   "metadata": {},
   "source": [
    "---\n",
    "## Runtime prerequisites"
   ]
  },
  {
   "cell_type": "code",
   "execution_count": null,
   "metadata": {},
   "outputs": [],
   "source": [
    "%%capture --no-stderr requirementsOutput\n",
    "\n",
    "displayRequirementsOutput = False\n",
    "\n",
    "%pip install -r requirements.txt\n",
    "from covidvu.utils import autoReloadCode; autoReloadCode()"
   ]
  },
  {
   "cell_type": "code",
   "execution_count": null,
   "metadata": {},
   "outputs": [],
   "source": [
    "if displayRequirementsOutput:\n",
    "    requirementsOutput.show()"
   ]
  },
  {
   "cell_type": "markdown",
   "metadata": {},
   "source": [
    "---\n",
    "## Pull latest datasets from the JH CSSE GitHub repository\n"
   ]
  },
  {
   "cell_type": "code",
   "execution_count": null,
   "metadata": {},
   "outputs": [],
   "source": [
    "%sx ./refreshdata local patch"
   ]
  },
  {
   "cell_type": "markdown",
   "metadata": {},
   "source": [
    "---\n",
    "## Confirmed, deaths, recovered datasets"
   ]
  },
  {
   "cell_type": "code",
   "execution_count": null,
   "metadata": {},
   "outputs": [],
   "source": [
    "import os\n",
    "\n",
    "import numpy as np\n",
    "import pandas as pd\n",
    "\n",
    "from covidvu.pipeline.vujson import parseCSSE\n",
    "\n",
    "pd.options.mode.chained_assignment = None\n"
   ]
  },
  {
   "cell_type": "code",
   "execution_count": null,
   "metadata": {},
   "outputs": [],
   "source": [
    "confirmedCases = parseCSSE('confirmed')['casesGlobal']\n",
    "confirmedDeaths = parseCSSE('deaths')['casesGlobal']"
   ]
  },
  {
   "cell_type": "code",
   "execution_count": null,
   "metadata": {},
   "outputs": [],
   "source": [
    "mortalityRate = confirmedDeaths/confirmedCases"
   ]
  },
  {
   "cell_type": "markdown",
   "metadata": {},
   "source": [
    "---\n",
    "## Interactive plots"
   ]
  },
  {
   "cell_type": "code",
   "execution_count": null,
   "metadata": {},
   "outputs": [],
   "source": [
    "from covidvu import visualize\n",
    "from ipywidgets import widgets\n",
    "from ipywidgets import interact\n",
    "from ipywidgets import fixed"
   ]
  },
  {
   "cell_type": "code",
   "execution_count": null,
   "metadata": {},
   "outputs": [],
   "source": [
    "countries = list(confirmedCases.columns)\n",
    "multiCountry = widgets.SelectMultiple(\n",
    "    options=countries,\n",
    "    value=['!Global', '!Outside China'],\n",
    "    description='Country',\n",
    "    disabled=False\n",
    ")\n",
    "log = widgets.Checkbox(value=False, description='Log scale')"
   ]
  },
  {
   "cell_type": "markdown",
   "metadata": {},
   "source": [
    "### Confirmed cases"
   ]
  },
  {
   "cell_type": "code",
   "execution_count": null,
   "metadata": {},
   "outputs": [],
   "source": [
    "interact(visualize.plotTimeSeriesInteractive, \n",
    "         df=fixed(confirmedCases), \n",
    "         selectedColumns=multiCountry, \n",
    "         log=log,\n",
    "         yLabel=fixed('Total confirmed cases'),\n",
    "         title=fixed('COVID-19 total confirmed cases')\n",
    ");"
   ]
  },
  {
   "cell_type": "code",
   "execution_count": null,
   "metadata": {},
   "outputs": [],
   "source": [
    "def viewTopCountries(n):\n",
    "    sortedCountries = confirmedCases.iloc[-1,:].sort_values(ascending=False)\n",
    "    sortedCountriesRaw = sortedCountries[sortedCountries.index.map(lambda c: c[0]!=\"!\")]\n",
    "    return pd.DataFrame(sortedCountriesRaw.iloc[:n]).style.background_gradient(cmap=\"Reds\")"
   ]
  },
  {
   "cell_type": "code",
   "execution_count": null,
   "metadata": {},
   "outputs": [],
   "source": [
    "interact(viewTopCountries, n=widgets.IntSlider(min=1, max=confirmedCases.shape[0], step=1, value=5));"
   ]
  },
  {
   "cell_type": "markdown",
   "metadata": {},
   "source": [
    "### New cases"
   ]
  },
  {
   "cell_type": "code",
   "execution_count": null,
   "metadata": {},
   "outputs": [],
   "source": [
    "interact(visualize.plotTimeSeriesInteractive, \n",
    "         df=fixed(confirmedCases.diff(axis=0)), \n",
    "         selectedColumns=multiCountry, \n",
    "         log=log,\n",
    "         yLabel=fixed('Confirmed cases (per day)'),\n",
    "         title=fixed('COVID-19 confirmed new cases (per day)')\n",
    ");"
   ]
  },
  {
   "cell_type": "markdown",
   "metadata": {},
   "source": [
    "### Confirmed deaths"
   ]
  },
  {
   "cell_type": "code",
   "execution_count": null,
   "metadata": {},
   "outputs": [],
   "source": [
    "interact(visualize.plotTimeSeriesInteractive, \n",
    "         df=fixed(confirmedDeaths), \n",
    "         selectedColumns=multiCountry, \n",
    "         log=log,\n",
    "         yLabel=fixed('Number of deaths'),\n",
    "         title=fixed('COVID-19 total confirmed deaths')\n",
    ");"
   ]
  },
  {
   "cell_type": "markdown",
   "metadata": {},
   "source": [
    "---\n",
    "## Mortality and recovery rates\n",
    "\n",
    "### Mortality rate"
   ]
  },
  {
   "cell_type": "code",
   "execution_count": null,
   "metadata": {},
   "outputs": [],
   "source": [
    "interact(visualize.plotTimeSeriesInteractive, \n",
    "         df=fixed(mortalityRate), \n",
    "         selectedColumns=multiCountry, \n",
    "         log=log,\n",
    "         yLabel=fixed('Mortality rate (deaths/cases)'),\n",
    "         title=fixed('COVID-19 mortality rate')\n",
    ");"
   ]
  },
  {
   "cell_type": "markdown",
   "metadata": {},
   "source": [
    "---\n",
    "&#169; the COVIDvu Contributors.  All rights reserved."
   ]
  }
 ],
 "metadata": {
  "kernelspec": {
   "display_name": "Python 3",
   "language": "python",
   "name": "python3"
  },
  "language_info": {
   "codemirror_mode": {
    "name": "ipython",
    "version": 3
   },
   "file_extension": ".py",
   "mimetype": "text/x-python",
   "name": "python",
   "nbconvert_exporter": "python",
   "pygments_lexer": "ipython3",
   "version": "3.8.1"
  }
 },
 "nbformat": 4,
 "nbformat_minor": 4
}
