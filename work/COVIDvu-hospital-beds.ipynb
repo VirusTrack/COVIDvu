{
 "cells": [
  {
   "cell_type": "code",
   "execution_count": null,
   "metadata": {},
   "outputs": [],
   "source": [
    "import urllib\n",
    "import json\n",
    "import pandas as pd\n",
    "from tqdm.auto import tqdm\n",
    "from covidvu.pipeline.vujson import _dumpJSON\n",
    "\n",
    "import os\n",
    "\n",
    "from os.path import join\n",
    "\n",
    "from time import sleep\n",
    "\n",
    "postCodes = pd.read_csv(join(os.getcwd(), 'stateCodesUS.csv'))\n",
    "\n",
    "bedCount = {}\n",
    "for n, row in tqdm(postCodes.iterrows(), total=postCodes.shape[0]):\n",
    "    url = f\"http://www.communitybenefitinsight.org/api/get_hospitals.php?state={row['postalCode']}\"\n",
    "    response = urllib.request.urlopen(url)\n",
    "    assert response\n",
    "    data = json.loads(response.read())\n",
    "    totalBeds = 0\n",
    "    for i in range(len(data)):\n",
    "        totalBeds += int(data[i]['hospital_bed_count'])\n",
    "    bedCount[row['state']] = totalBeds\n",
    "    sleep(0.5)"
   ]
  },
  {
   "cell_type": "code",
   "execution_count": null,
   "metadata": {},
   "outputs": [],
   "source": [
    "_dumpJSON"
   ]
  }
 ],
 "metadata": {
  "kernelspec": {
   "display_name": "Python 3",
   "language": "python",
   "name": "python3"
  },
  "language_info": {
   "codemirror_mode": {
    "name": "ipython",
    "version": 3
   },
   "file_extension": ".py",
   "mimetype": "text/x-python",
   "name": "python",
   "nbconvert_exporter": "python",
   "pygments_lexer": "ipython3",
   "version": "3.8.1"
  }
 },
 "nbformat": 4,
 "nbformat_minor": 4
}
