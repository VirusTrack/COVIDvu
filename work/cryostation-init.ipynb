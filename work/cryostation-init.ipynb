{
 "cells": [
  {
   "cell_type": "markdown",
   "metadata": {},
   "source": [
    "# Cryostation initialization\n",
    "\n",
    "A cryostation is a device for storing viruses in the real world.  Cryostations keep virus samples (different locations or generations) for later use in vaccine or gene sequencing research.\n",
    "\n",
    "The `covidvu.cryostation` module will be used for storing all the processed data sources and manipulation results, for quick bundling and access.\n",
    "\n",
    "## TinyDB\n",
    "\n",
    "- [API reference](https://tinydb.readthedocs.io/en/latest/api.html)\n",
    "- [Documentation](https://tinydb.readthedocs.io/en/latest/index.html)\n"
   ]
  },
  {
   "cell_type": "code",
   "execution_count": null,
   "metadata": {},
   "outputs": [],
   "source": [
    "from tinydb import TinyDB, Query"
   ]
  },
  {
   "cell_type": "code",
   "execution_count": null,
   "metadata": {},
   "outputs": [],
   "source": [
    "from covidvu.pipeline.vujson import SITE_DATA"
   ]
  },
  {
   "cell_type": "code",
   "execution_count": null,
   "metadata": {},
   "outputs": [],
   "source": [
    "TinyDB.DEFAULT_TABLE = '_virustrack'"
   ]
  },
  {
   "cell_type": "code",
   "execution_count": null,
   "metadata": {},
   "outputs": [],
   "source": [
    "storage = TinyDB('database/virustrack.db')"
   ]
  },
  {
   "cell_type": "code",
   "execution_count": null,
   "metadata": {},
   "outputs": [],
   "source": [
    "storage.close()"
   ]
  },
  {
   "cell_type": "markdown",
   "metadata": {},
   "source": [
    "---\n",
    "## First time use\n",
    "\n",
    "The routines in this notebook are used as a one-time only database initialization, based on the existing data bundles."
   ]
  },
  {
   "cell_type": "markdown",
   "metadata": {},
   "source": [
    "### Global cases"
   ]
  },
  {
   "cell_type": "code",
   "execution_count": null,
   "metadata": {},
   "outputs": [],
   "source": [
    "import json\n",
    "import os"
   ]
  },
  {
   "cell_type": "code",
   "execution_count": null,
   "metadata": {},
   "outputs": [],
   "source": [
    "def loadDatasetFrom(source = 'confirmed'):\n",
    "    fileName = os.path.join(SITE_DATA, source+'.json')\n",
    "    \n",
    "    return json.loads(open(fileName, 'r').read())"
   ]
  },
  {
   "cell_type": "code",
   "execution_count": null,
   "metadata": {},
   "outputs": [],
   "source": [
    "sourceDataset = loadDatasetFrom('confirmed')"
   ]
  },
  {
   "cell_type": "code",
   "execution_count": null,
   "metadata": {},
   "outputs": [],
   "source": [
    "dataset = dict()"
   ]
  },
  {
   "cell_type": "code",
   "execution_count": null,
   "metadata": {},
   "outputs": [],
   "source": [
    "from covidvu.cryostation import Cryostation"
   ]
  },
  {
   "cell_type": "code",
   "execution_count": null,
   "metadata": {},
   "outputs": [],
   "source": [
    "storage = Cryostation('database/vt-global.db')"
   ]
  },
  {
   "cell_type": "code",
   "execution_count": null,
   "metadata": {},
   "outputs": [],
   "source": [
    "def updateCasesIn(cryostation, casesType = 'confirmed')\n",
    "    sourceDataset = loadDatasetFrom(casesType)\n",
    "    \n",
    "    for key in sourceDataset.keys():\n",
    "        cryostation.search(key)\n",
    "        item = dict()\n",
    "        item['key'] = key\n",
    "\n",
    "        for date in sourceDataset[key].keys():\n",
    "            if date not in item:\n",
    "                item[date] = dict()\n",
    "                \n",
    "            item[date][casesType] = sourceDataset[key][date]\n"
   ]
  },
  {
   "cell_type": "code",
   "execution_count": null,
   "metadata": {},
   "outputs": [],
   "source": []
  }
 ],
 "metadata": {
  "kernelspec": {
   "display_name": "Python 3",
   "language": "python",
   "name": "python3"
  },
  "language_info": {
   "codemirror_mode": {
    "name": "ipython",
    "version": 3
   },
   "file_extension": ".py",
   "mimetype": "text/x-python",
   "name": "python",
   "nbconvert_exporter": "python",
   "pygments_lexer": "ipython3",
   "version": "3.7.6"
  }
 },
 "nbformat": 4,
 "nbformat_minor": 4
}
