{
 "cells": [
  {
   "cell_type": "markdown",
   "metadata": {},
   "source": [
    "# Cryostation initialization\n",
    "\n",
    "A cryostation is a device for storing viruses in the real world.  Cryostations keep virus samples (different locations or generations) for later use in vaccine or gene sequencing research.\n",
    "\n",
    "The `covidvu.cryostation` module will be used for storing all the processed data sources and manipulation results, for quick bundling and access.\n",
    "\n",
    "## TinyDB\n",
    "\n",
    "- [API reference](https://tinydb.readthedocs.io/en/latest/api.html)\n",
    "- [Documentation](https://tinydb.readthedocs.io/en/latest/index.html)\n"
   ]
  },
  {
   "cell_type": "markdown",
   "metadata": {},
   "source": [
    "---\n",
    "## General purpose functions"
   ]
  },
  {
   "cell_type": "code",
   "execution_count": null,
   "metadata": {},
   "outputs": [],
   "source": [
    "import json\n",
    "import os\n",
    "import shutil\n",
    "import tqdm"
   ]
  },
  {
   "cell_type": "code",
   "execution_count": null,
   "metadata": {},
   "outputs": [],
   "source": [
    "from covidvu.cryostation import Cryostation"
   ]
  },
  {
   "cell_type": "code",
   "execution_count": null,
   "metadata": {},
   "outputs": [],
   "source": [
    "from covidvu.pipeline.vujson import SITE_DATA"
   ]
  },
  {
   "cell_type": "code",
   "execution_count": null,
   "metadata": {},
   "outputs": [],
   "source": [
    "def loadDatasetFrom(source = 'confirmed', suffix = ''):\n",
    "    fileName = os.path.join(SITE_DATA, source+'%s.json' % suffix)\n",
    "    \n",
    "    return json.loads(open(fileName, 'r').read())"
   ]
  },
  {
   "cell_type": "code",
   "execution_count": null,
   "metadata": {},
   "outputs": [],
   "source": [
    "def updateCasesIn(cryostation, casesType = 'confirmed'):\n",
    "    sourceDataset = loadDatasetFrom(casesType)\n",
    "    \n",
    "    for key in tqdm.tqdm(sourceDataset.keys()):\n",
    "        item = cryostation.get(key, dict())\n",
    "        if not key in item:\n",
    "            item = dict()\n",
    "            item['key'] = key\n",
    "            \n",
    "        item[casesType] = sourceDataset[key]\n",
    "        \n",
    "        cryostation[key] = item"
   ]
  },
  {
   "cell_type": "code",
   "execution_count": null,
   "metadata": {},
   "outputs": [],
   "source": [
    "storage = Cryostation('database/virustrack.db')"
   ]
  },
  {
   "cell_type": "markdown",
   "metadata": {},
   "source": [
    "---\n",
    "## First time use\n",
    "\n",
    "The routines in this notebook are used as a one-time only database initialization, based on the existing data bundles."
   ]
  },
  {
   "cell_type": "markdown",
   "metadata": {},
   "source": [
    "## Global cases"
   ]
  },
  {
   "cell_type": "code",
   "execution_count": null,
   "metadata": {},
   "outputs": [],
   "source": [
    "updateCasesIn(storage, 'confirmed')"
   ]
  },
  {
   "cell_type": "code",
   "execution_count": null,
   "metadata": {},
   "outputs": [],
   "source": [
    "updateCasesIn(storage, 'deaths')"
   ]
  },
  {
   "cell_type": "code",
   "execution_count": null,
   "metadata": {},
   "outputs": [],
   "source": [
    "storage.close()"
   ]
  },
  {
   "cell_type": "markdown",
   "metadata": {},
   "source": [
    "### Capitals, ISO codes, languages"
   ]
  },
  {
   "cell_type": "code",
   "execution_count": null,
   "metadata": {},
   "outputs": [],
   "source": [
    "from covidvu.virustrack.countryinfo import COUNTRIES_INFO"
   ]
  },
  {
   "cell_type": "code",
   "execution_count": null,
   "metadata": {},
   "outputs": [],
   "source": [
    "storage = Cryostation('database/virustrack.db')"
   ]
  },
  {
   "cell_type": "code",
   "execution_count": null,
   "metadata": {},
   "outputs": [],
   "source": [
    "for country in tqdm.tqdm(COUNTRIES_INFO.keys()):\n",
    "    countryInfo = COUNTRIES_INFO[country]\n",
    "    if country not in storage:\n",
    "        print('MISSING: %s' % country)\n",
    "        missingCountry = { 'key': country, }\n",
    "        storage[country] = missingCountry\n",
    "\n",
    "    element = storage[country]\n",
    "    element['info'] = countryInfo\n",
    "    storage[country] = element"
   ]
  },
  {
   "cell_type": "code",
   "execution_count": null,
   "metadata": {},
   "outputs": [],
   "source": [
    "storage.close()"
   ]
  },
  {
   "cell_type": "markdown",
   "metadata": {},
   "source": [
    "---\n",
    "## US states"
   ]
  },
  {
   "cell_type": "code",
   "execution_count": null,
   "metadata": {},
   "outputs": [],
   "source": [
    "def update(element, casesType, suffix = '-US'):\n",
    "    dataset = loadDatasetFrom(casesType, suffix)   \n",
    "    for state in tqdm.tqdm(dataset.keys()):\n",
    "        if state not in element:\n",
    "            element[state] = dict()\n",
    "        \n",
    "        element[state][casesType] = dataset[state]\n",
    "    \n",
    "    return element"
   ]
  },
  {
   "cell_type": "code",
   "execution_count": null,
   "metadata": {},
   "outputs": [],
   "source": [
    "storage = Cryostation('database/virustrack.db')"
   ]
  },
  {
   "cell_type": "code",
   "execution_count": null,
   "metadata": {},
   "outputs": [],
   "source": [
    "element = storage['US']"
   ]
  },
  {
   "cell_type": "code",
   "execution_count": null,
   "metadata": {},
   "outputs": [],
   "source": [
    "element = update(element, 'confirmed')"
   ]
  },
  {
   "cell_type": "code",
   "execution_count": null,
   "metadata": {},
   "outputs": [],
   "source": [
    "element = update(element, 'deaths')"
   ]
  },
  {
   "cell_type": "code",
   "execution_count": null,
   "metadata": {},
   "outputs": [],
   "source": [
    "storage['US'] = element"
   ]
  },
  {
   "cell_type": "code",
   "execution_count": null,
   "metadata": {},
   "outputs": [],
   "source": [
    "storage.close()"
   ]
  },
  {
   "cell_type": "markdown",
   "metadata": {},
   "source": [
    "### US Regions"
   ]
  },
  {
   "cell_type": "code",
   "execution_count": null,
   "metadata": {},
   "outputs": [],
   "source": [
    "storage = Cryostation('database/virustrack.db')"
   ]
  },
  {
   "cell_type": "code",
   "execution_count": null,
   "metadata": {},
   "outputs": [],
   "source": [
    "element = storage['US']"
   ]
  },
  {
   "cell_type": "code",
   "execution_count": null,
   "metadata": {},
   "outputs": [],
   "source": [
    "element = update(element, 'confirmed', '-US-Regions')"
   ]
  },
  {
   "cell_type": "code",
   "execution_count": null,
   "metadata": {},
   "outputs": [],
   "source": [
    "element = update(element, 'deaths', '-US-Regions')"
   ]
  },
  {
   "cell_type": "code",
   "execution_count": null,
   "metadata": {},
   "outputs": [],
   "source": [
    "storage['US'] = element"
   ]
  },
  {
   "cell_type": "code",
   "execution_count": null,
   "metadata": {},
   "outputs": [],
   "source": [
    "storage.close()"
   ]
  },
  {
   "cell_type": "markdown",
   "metadata": {},
   "source": [
    "Each US state belongs to a region -- let's mark them here so the regions exist in the data, not in the code."
   ]
  },
  {
   "cell_type": "code",
   "execution_count": null,
   "metadata": {},
   "outputs": [],
   "source": [
    "from covidvu.virustrack.countryinfo import US_REGIONS"
   ]
  },
  {
   "cell_type": "code",
   "execution_count": null,
   "metadata": {},
   "outputs": [],
   "source": [
    "storage = Cryostation('database/virustrack.db')"
   ]
  },
  {
   "cell_type": "code",
   "execution_count": null,
   "metadata": {},
   "outputs": [],
   "source": [
    "element = storage['US']"
   ]
  },
  {
   "cell_type": "code",
   "execution_count": null,
   "metadata": {},
   "outputs": [],
   "source": [
    "for state in tqdm.tqdm(US_REGIONS.keys()):\n",
    "    if state in element:\n",
    "        element[state]['region'] = US_REGIONS[state]"
   ]
  },
  {
   "cell_type": "code",
   "execution_count": null,
   "metadata": {},
   "outputs": [],
   "source": [
    "storage['US'] = element"
   ]
  },
  {
   "cell_type": "code",
   "execution_count": null,
   "metadata": {},
   "outputs": [],
   "source": [
    "storage.close()"
   ]
  },
  {
   "cell_type": "markdown",
   "metadata": {},
   "source": [
    "---\n",
    "## US Counties time series\n",
    "\n",
    "Data import cut off is 2300 on the date we captured the data.  Hourly data snapshots are available if needed."
   ]
  },
  {
   "cell_type": "code",
   "execution_count": null,
   "metadata": {},
   "outputs": [],
   "source": [
    "import json\n",
    "import os\n",
    "import shutil"
   ]
  },
  {
   "cell_type": "markdown",
   "metadata": {},
   "source": [
    "### Populate cryostation with US counties and locations"
   ]
  },
  {
   "cell_type": "code",
   "execution_count": null,
   "metadata": {},
   "outputs": [],
   "source": [
    "storage = Cryostation('database/virustrack.db')"
   ]
  },
  {
   "cell_type": "code",
   "execution_count": null,
   "metadata": {},
   "outputs": [],
   "source": [
    "country = storage['US']"
   ]
  },
  {
   "cell_type": "code",
   "execution_count": null,
   "metadata": {},
   "outputs": [],
   "source": [
    "validStatesRegions = [\n",
    "    elementKey for elementKey in country.keys()\n",
    "        if elementKey not in ('key', 'confirmed', 'deaths', '!Total US', 'info',\n",
    "                              'Other', 'Midwest', 'Northeast', 'South', 'West') ]"
   ]
  },
  {
   "cell_type": "code",
   "execution_count": null,
   "metadata": {},
   "outputs": [],
   "source": [
    "invalidCounties = list()\n",
    "for countyElement in tqdm.tqdm(json.loads(open('./resources/counties-US-all-20200324.json', 'r').read())):\n",
    "    state  = countyElement['province']\n",
    "    county = countyElement['county']\n",
    "    if state in validStatesRegions:\n",
    "        if 'counties' not in country[state]:\n",
    "            country[state]['counties'] = dict()\n",
    "        country[state]['counties'][county] = { 'confirmed': dict(), \n",
    "                                               'coordinates': countyElement['coordinates'],\n",
    "                                               'deaths': dict(),\n",
    "                                             }\n",
    "    else:\n",
    "        invalidCounties.append('%s, %s\\n' %(countyElement['county'], countyElement['province']))"
   ]
  },
  {
   "cell_type": "code",
   "execution_count": null,
   "metadata": {},
   "outputs": [],
   "source": [
    "storage['US'] = country"
   ]
  },
  {
   "cell_type": "code",
   "execution_count": null,
   "metadata": {},
   "outputs": [],
   "source": [
    "storage.close()"
   ]
  },
  {
   "cell_type": "markdown",
   "metadata": {},
   "source": [
    "### Make the counties time series\n",
    "\n",
    "Extract the county data for each specific date, from the `.tar.bz2` file.  These files are backed up on the server."
   ]
  },
  {
   "cell_type": "code",
   "execution_count": null,
   "metadata": {},
   "outputs": [],
   "source": [
    "storage = Cryostation('database/virustrack.db')\n",
    "country = storage['US']"
   ]
  },
  {
   "cell_type": "code",
   "execution_count": null,
   "metadata": {},
   "outputs": [],
   "source": [
    "def extractCountiesSnapshotFrom(fileName, snapshotsDir, siteDir = SITE_DATA):\n",
    "    command = 'tar xvjf %s site-data/counties-US-all.json' % (os.path.join(snapshotsDir, fileName))\n",
    "    print(command)\n",
    "    os.system(command)\n",
    "\n",
    "    dateDec = fileName.split('-')[1].split('.')[0]\n",
    "    print(dateDec)\n",
    "    dateStamp = '%s-%s-%s' % (dateDec[:4], dateDec[4:6], dateDec[-2:])\n",
    "\n",
    "    return os.path.join(siteDir, 'counties-US-all.json'), dateStamp"
   ]
  },
  {
   "cell_type": "code",
   "execution_count": null,
   "metadata": {},
   "outputs": [],
   "source": [
    "import time\n",
    "\n",
    "def processCountiesForDate(source_Date, country):\n",
    "    print(source_Date[0], source_Date[1])\n",
    "    dataset = json.loads(open(source_Date[0]).read())\n",
    "    for state in tqdm.tqdm(dataset.keys()):\n",
    "        for county in dataset[state]:\n",
    "            if state not in country:\n",
    "                continue\n",
    "            if county not in country[state]['counties']:\n",
    "                continue\n",
    "            country[state]['counties'][county]['confirmed'][source_Date[1]] = dataset[state][county]['confirmed']\n",
    "            country[state]['counties'][county]['deaths'][source_Date[1]] = dataset[state][county]['deaths']\n",
    "    \n",
    "    os.unlink(source_Date[0])"
   ]
  },
  {
   "cell_type": "code",
   "execution_count": null,
   "metadata": {},
   "outputs": [],
   "source": [
    "snapshotsDir = './snapshots'\n",
    "for archive in (fileName for fileName in os.listdir(snapshotsDir) if 'snapshot' in fileName):\n",
    "    sourceFile, dateStamp = extractCountiesSnapshotFrom(archive, snapshotsDir)\n",
    "    processCountiesForDate((sourceFile, dateStamp), country)"
   ]
  },
  {
   "cell_type": "code",
   "execution_count": null,
   "metadata": {},
   "outputs": [],
   "source": [
    "storage['US'] = country\n",
    "storage.close()"
   ]
  },
  {
   "cell_type": "markdown",
   "metadata": {},
   "source": [
    "---\n",
    "## Experiments\n"
   ]
  },
  {
   "cell_type": "code",
   "execution_count": null,
   "metadata": {},
   "outputs": [],
   "source": [
    "storage = Cryostation('database/virustrack.db')"
   ]
  },
  {
   "cell_type": "code",
   "execution_count": null,
   "metadata": {},
   "outputs": [],
   "source": [
    "country = storage['US']"
   ]
  },
  {
   "cell_type": "code",
   "execution_count": null,
   "metadata": {},
   "outputs": [],
   "source": [
    "print(country['info'])"
   ]
  },
  {
   "cell_type": "code",
   "execution_count": null,
   "metadata": {},
   "outputs": [],
   "source": [
    "for entry in country.keys():\n",
    "    if entry not in ('confirmed', 'deaths', 'info', '!Total US') and entry != 'key':\n",
    "        print(entry, country[entry]['deaths']['2020-04-05'])"
   ]
  },
  {
   "cell_type": "code",
   "execution_count": null,
   "metadata": {},
   "outputs": [],
   "source": [
    "storage.close()"
   ]
  },
  {
   "cell_type": "markdown",
   "metadata": {},
   "source": [
    "---\n",
    "&#169; The VirusTrack/COVIDvu Open Source Development Team"
   ]
  }
 ],
 "metadata": {
  "kernelspec": {
   "display_name": "Python 3",
   "language": "python",
   "name": "python3"
  },
  "language_info": {
   "codemirror_mode": {
    "name": "ipython",
    "version": 3
   },
   "file_extension": ".py",
   "mimetype": "text/x-python",
   "name": "python",
   "nbconvert_exporter": "python",
   "pygments_lexer": "ipython3",
   "version": "3.7.6"
  }
 },
 "nbformat": 4,
 "nbformat_minor": 4
}
