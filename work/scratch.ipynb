{
 "cells": [
  {
   "cell_type": "code",
   "execution_count": null,
   "metadata": {},
   "outputs": [],
   "source": [
    "import os\n",
    "\n",
    "import numpy as np\n",
    "import pandas as pd\n",
    "\n",
    "from covidvu.utils import autoReloadCode; autoReloadCode()\n",
    "from covidvu.config import MASTER_DATABASE\n",
    "from covidvu.cryostation import Cryostation\n",
    "from covidvu.pipeline.vugrowth import computeGrowth, TODAY_DATE\n",
    "\n",
    "from tqdm.auto import tqdm"
   ]
  },
  {
   "cell_type": "code",
   "execution_count": null,
   "metadata": {},
   "outputs": [],
   "source": [
    "TODAY_DATE - pd.Timedelta(1, 'D')"
   ]
  },
  {
   "cell_type": "code",
   "execution_count": null,
   "metadata": {},
   "outputs": [],
   "source": [
    "computeGrowth(regionType = 'country', casesType = 'confirmed', disableProgressBar=False)"
   ]
  },
  {
   "cell_type": "code",
   "execution_count": null,
   "metadata": {},
   "outputs": [],
   "source": [
    "TEST_DB = 'test-virustrack.db'"
   ]
  },
  {
   "cell_type": "code",
   "execution_count": null,
   "metadata": {},
   "outputs": [],
   "source": [
    "with Cryostation(TEST_DB) as cryostationTest:\n",
    "    with Cryostation(MASTER_DATABASE) as cryostation:\n",
    "        unitedStates = cryostation['US']\n",
    "        california = unitedStates['provinces']['California']['confirmed']\n",
    "        newYork = unitedStates['provinces']['New York']['confirmed']\n",
    "        newJersey = unitedStates['provinces']['New Jersey']['confirmed']\n",
    "        \n",
    "        cryostationTest['US'] = dict()"
   ]
  },
  {
   "cell_type": "code",
   "execution_count": null,
   "metadata": {},
   "outputs": [],
   "source": [
    "with Cryostation(TEST_DB) as cryostationTest:\n",
    "    x = cryostationTest['US']"
   ]
  },
  {
   "cell_type": "code",
   "execution_count": null,
   "metadata": {},
   "outputs": [],
   "source": []
  }
 ],
 "metadata": {
  "kernelspec": {
   "display_name": "Python 3",
   "language": "python",
   "name": "python3"
  },
  "language_info": {
   "codemirror_mode": {
    "name": "ipython",
    "version": 3
   },
   "file_extension": ".py",
   "mimetype": "text/x-python",
   "name": "python",
   "nbconvert_exporter": "python",
   "pygments_lexer": "ipython3",
   "version": "3.8.1"
  }
 },
 "nbformat": 4,
 "nbformat_minor": 4
}
