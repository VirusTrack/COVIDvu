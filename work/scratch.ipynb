{
 "cells": [
  {
   "cell_type": "code",
   "execution_count": null,
   "metadata": {},
   "outputs": [],
   "source": [
    "import os\n",
    "\n",
    "import numpy as np\n",
    "import pandas as pd\n",
    "\n",
    "from covidvu import utils\n",
    "from covidvu.cryostation import Cryostation"
   ]
  },
  {
   "cell_type": "code",
   "execution_count": null,
   "metadata": {},
   "outputs": [],
   "source": [
    "WINDOW_SIZE = 7\n",
    "MIN_CASES = 100"
   ]
  },
  {
   "cell_type": "code",
   "execution_count": null,
   "metadata": {},
   "outputs": [],
   "source": [
    "databasePath = './database/virustrack.db'\n",
    "storage = Cryostation(databasePath=databasePath)\n",
    "countries = storage.timeSeriesFor(regionType = 'country', casesType = 'confirmed', disableProgressBar=False)"
   ]
  },
  {
   "cell_type": "code",
   "execution_count": null,
   "metadata": {},
   "outputs": [],
   "source": [
    "statesUS = storage.timeSeriesFor(regionType = 'province', countryName='US', \n",
    "                                 casesType = 'confirmed', disableProgressBar=False)"
   ]
  },
  {
   "cell_type": "code",
   "execution_count": null,
   "metadata": {},
   "outputs": [],
   "source": [
    "def computeGrowthFactor(confirmedCases, windowSize):    \n",
    "    confirmedCasesSmooth = confirmedCases.copy().rolling(windowSize, axis=0).mean()\n",
    "    newCases = confirmedCasesSmooth.diff(axis=0)\n",
    "    growthFactor = newCases/newCases.shift(1)\n",
    "    return growthFactor"
   ]
  },
  {
   "cell_type": "code",
   "execution_count": null,
   "metadata": {},
   "outputs": [],
   "source": [
    "growthCountries = computeGrowthFactor(countries, WINDOW_SIZE)"
   ]
  },
  {
   "cell_type": "code",
   "execution_count": null,
   "metadata": {},
   "outputs": [],
   "source": [
    "growthStatesUS = computeGrowthFactor(statesUS, WINDOW_SIZE)"
   ]
  },
  {
   "cell_type": "code",
   "execution_count": null,
   "metadata": {},
   "outputs": [],
   "source": [
    "type(growthStatesUS.index)"
   ]
  },
  {
   "cell_type": "code",
   "execution_count": null,
   "metadata": {},
   "outputs": [],
   "source": [
    "todayDate = pd.Timestamp.today().date()\n",
    "yesterdayDate = (pd.Timestamp.today() - pd.Timedelta(1,'D')).date()\n",
    "lastWeekDate = (pd.Timestamp.today() - pd.Timedelta(7,'D')).date()\n",
    "lastTwoWeekDate = (pd.Timestamp.today() - pd.Timedelta(14,'D')).date()"
   ]
  },
  {
   "cell_type": "code",
   "execution_count": null,
   "metadata": {},
   "outputs": [],
   "source": [
    "str(todayDate)"
   ]
  },
  {
   "cell_type": "code",
   "execution_count": null,
   "metadata": {},
   "outputs": [],
   "source": [
    "def getGrowthGaugeData(growth):\n",
    "    try:\n",
    "        mostRecentGrowth = growth.loc[todayDate]\n",
    "        mostRecentDate   = todayDate\n",
    "    except KeyError:\n",
    "        mostRecentGrowth = growth.loc[yesterdayDate]\n",
    "        mostRecentDate   = yesterdayDate\n",
    "        \n",
    "    lastWeekGrowth = growth.loc[lastWeekDate]\n",
    "    lastTwoWeekGrowth = growth.loc[lastTwoWeekDate]\n",
    "    return {\n",
    "                str(mostRecentDate): mostRecentGrowth, \n",
    "                str(lastWeekDate): lastWeekGrowth, \n",
    "                str(lastTwoWeekDate): lastTwoWeekGrowth,\n",
    "           }"
   ]
  },
  {
   "cell_type": "code",
   "execution_count": null,
   "metadata": {},
   "outputs": [],
   "source": [
    "growthGaugeDataCountries = getGrowthGaugeData(growthCountries)\n",
    "growthGaugeDataStatesUS  = getGrowthGaugeData(growthStatesUS)"
   ]
  },
  {
   "cell_type": "code",
   "execution_count": null,
   "metadata": {},
   "outputs": [],
   "source": [
    "growthGaugeDataCountries['2020-04-13']['US']"
   ]
  },
  {
   "cell_type": "code",
   "execution_count": null,
   "metadata": {},
   "outputs": [],
   "source": [
    "growthGaugeDataCountries.keys()"
   ]
  },
  {
   "cell_type": "code",
   "execution_count": null,
   "metadata": {},
   "outputs": [],
   "source": [
    "{d:growthGaugeDataCountries[d]['US'] for d in growthGaugeDataCountries.keys()}"
   ]
  },
  {
   "cell_type": "code",
   "execution_count": null,
   "metadata": {},
   "outputs": [],
   "source": [
    "from covidvu.config import MASTER_DATABASE as database"
   ]
  },
  {
   "cell_type": "code",
   "execution_count": null,
   "metadata": {},
   "outputs": [],
   "source": [
    "with Cryostation(database) as cryostation:\n",
    "    cryostation['US']['growth'] = {d:growthGaugeDataCountries[d]['US'] for d in growthGaugeDataCountries.keys()}"
   ]
  },
  {
   "cell_type": "code",
   "execution_count": null,
   "metadata": {},
   "outputs": [],
   "source": []
  }
 ],
 "metadata": {
  "kernelspec": {
   "display_name": "Python 3",
   "language": "python",
   "name": "python3"
  },
  "language_info": {
   "codemirror_mode": {
    "name": "ipython",
    "version": 3
   },
   "file_extension": ".py",
   "mimetype": "text/x-python",
   "name": "python",
   "nbconvert_exporter": "python",
   "pygments_lexer": "ipython3",
   "version": "3.8.1"
  }
 },
 "nbformat": 4,
 "nbformat_minor": 4
}
