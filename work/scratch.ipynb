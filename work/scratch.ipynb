{
 "cells": [
  {
   "cell_type": "code",
   "execution_count": null,
   "metadata": {},
   "outputs": [],
   "source": [
    "import os\n",
    "\n",
    "import numpy as np\n",
    "import pandas as pd\n",
    "\n",
    "from covidvu import utils\n",
    "from covidvu.config import MASTER_DATABASE\n",
    "from covidvu.cryostation import Cryostation\n",
    "from tqdm.auto import tqdm"
   ]
  },
  {
   "cell_type": "code",
   "execution_count": null,
   "metadata": {},
   "outputs": [],
   "source": [
    "WINDOW_SIZE = 7\n",
    "MIN_CASES = 100"
   ]
  },
  {
   "cell_type": "code",
   "execution_count": null,
   "metadata": {},
   "outputs": [],
   "source": [
    "databasePath = MASTER_DATABASE\n",
    "with Cryostation(databasePath) as cryostation:\n",
    "    countries = cryostation.timeSeriesFor(regionType = 'country', casesType = 'confirmed', disableProgressBar=False)"
   ]
  },
  {
   "cell_type": "code",
   "execution_count": null,
   "metadata": {},
   "outputs": [],
   "source": [
    "with Cryostation(databasePath) as cryostation:\n",
    "    statesUS = cryostation.timeSeriesFor(regionType = 'province', countryName='US', \n",
    "                                     casesType = 'confirmed', disableProgressBar=False)"
   ]
  },
  {
   "cell_type": "code",
   "execution_count": null,
   "metadata": {},
   "outputs": [],
   "source": [
    "def computeGrowthFactor(confirmedCases, windowSize):    \n",
    "    confirmedCasesSmooth = confirmedCases.copy().rolling(windowSize, axis=0).mean()\n",
    "    newCases = confirmedCasesSmooth.diff(axis=0)\n",
    "    growthFactor = newCases/newCases.shift(1)\n",
    "    return growthFactor"
   ]
  },
  {
   "cell_type": "code",
   "execution_count": null,
   "metadata": {},
   "outputs": [],
   "source": [
    "growthCountries = computeGrowthFactor(countries, WINDOW_SIZE)"
   ]
  },
  {
   "cell_type": "code",
   "execution_count": null,
   "metadata": {},
   "outputs": [],
   "source": [
    "growthStatesUS = computeGrowthFactor(statesUS, WINDOW_SIZE)"
   ]
  },
  {
   "cell_type": "code",
   "execution_count": null,
   "metadata": {},
   "outputs": [],
   "source": [
    "todayDate = pd.Timestamp.today().date()\n",
    "yesterdayDate = (pd.Timestamp.today() - pd.Timedelta(1,'D')).date()\n",
    "lastWeekDate = (pd.Timestamp.today() - pd.Timedelta(7,'D')).date()\n",
    "lastTwoWeekDate = (pd.Timestamp.today() - pd.Timedelta(14,'D')).date()"
   ]
  },
  {
   "cell_type": "code",
   "execution_count": null,
   "metadata": {},
   "outputs": [],
   "source": [
    "def getGrowthGaugeData(growth):\n",
    "    yesterdayGrowth = growth.loc[yesterdayDate]\n",
    "    lastWeekGrowth = growth.loc[lastWeekDate]\n",
    "    lastTwoWeekGrowth = growth.loc[lastTwoWeekDate]\n",
    "    return {\n",
    "                'yesterday': yesterdayGrowth, \n",
    "                'lastWeek': lastWeekGrowth, \n",
    "                'lastTwoWeek': lastTwoWeekGrowth,\n",
    "           }"
   ]
  },
  {
   "cell_type": "code",
   "execution_count": null,
   "metadata": {},
   "outputs": [],
   "source": [
    "growthCountries.index = growthCountries.index.map(lambda t: t.date())\n",
    "\n",
    "growthStatesUS.index = growthStatesUS.index.map(lambda t: t.date())\n",
    "\n",
    "growthGaugeDataCountries = getGrowthGaugeData(growthCountries)\n",
    "growthGaugeDataStatesUS  = getGrowthGaugeData(growthStatesUS)"
   ]
  },
  {
   "cell_type": "code",
   "execution_count": null,
   "metadata": {},
   "outputs": [],
   "source": [
    "growthCountries.columns"
   ]
  },
  {
   "cell_type": "code",
   "execution_count": null,
   "metadata": {},
   "outputs": [],
   "source": [
    "disableProgressBar=False"
   ]
  },
  {
   "cell_type": "code",
   "execution_count": null,
   "metadata": {},
   "outputs": [],
   "source": [
    "for countryName in tqdm(growthCountries.columns, disable=disableProgressBar):\n",
    "    with Cryostation(databasePath) as cryostation:\n",
    "        country = cryostation[countryName]\n",
    "        country['growth'] = {d:growthGaugeDataCountries[d][countryName] for d in growthGaugeDataCountries.keys()}\n",
    "        cryostation[countryName] = country"
   ]
  },
  {
   "cell_type": "code",
   "execution_count": null,
   "metadata": {},
   "outputs": [],
   "source": [
    "for stateName in tqdm(statesUS.columns, disable=disableProgressBar):\n",
    "    with Cryostation(databasePath) as cryostation:\n",
    "        country = cryostation['US']\n",
    "        province = country['provinces'][stateName]\n",
    "        province['growth'] = {d:growthGaugeDataStatesUS[d][stateName] for d in growthGaugeDataStatesUS.keys()}\n",
    "        country['provinces'][stateName] = province\n",
    "        cryostation['US'] = country"
   ]
  },
  {
   "cell_type": "code",
   "execution_count": null,
   "metadata": {},
   "outputs": [],
   "source": [
    "with Cryostation(databasePath) as cryostation:\n",
    "        country = cryostation['US']\n",
    "        province = country['provinces']['Alabama']\n",
    "        growth = province['growth']\n",
    "growth"
   ]
  }
 ],
 "metadata": {
  "kernelspec": {
   "display_name": "Python 3",
   "language": "python",
   "name": "python3"
  },
  "language_info": {
   "codemirror_mode": {
    "name": "ipython",
    "version": 3
   },
   "file_extension": ".py",
   "mimetype": "text/x-python",
   "name": "python",
   "nbconvert_exporter": "python",
   "pygments_lexer": "ipython3",
   "version": "3.8.1"
  }
 },
 "nbformat": 4,
 "nbformat_minor": 4
}
