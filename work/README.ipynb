{
 "cells": [
  {
   "cell_type": "markdown",
   "metadata": {},
   "source": [
    "# README\n",
    "\n",
    "Helpful hints to make life easier when using this project."
   ]
  },
  {
   "cell_type": "markdown",
   "metadata": {},
   "source": [
    "---\n",
    "## Ensure that minimal configuration exists"
   ]
  },
  {
   "cell_type": "code",
   "execution_count": null,
   "metadata": {},
   "outputs": [],
   "source": [
    "import os\n",
    "import shutil\n",
    "\n",
    "configFile = 'refreshdata.config'\n",
    "sampleFile = configFile+'.SAMPLE'\n",
    "\n",
    "if not os.path.exists(configFile):\n",
    "    print('creating basic %s file' % configFile)\n",
    "    shutil.copyfile(sampleFile, configFile)\n",
    "else:\n",
    "    print('%s already exists - nothing to do:\\n' % configFile)\n",
    "    print(open(configFile).read())"
   ]
  },
  {
   "cell_type": "markdown",
   "metadata": {},
   "source": [
    "---\n",
    "## Get the latest data from Johns Hopkins CSSE\n",
    "\n",
    "- [Data repository](https://github.com/CSSEGISandData/COVID-19) - GitHub\n",
    "\n",
    "\n",
    "### Check if data is available in this workspace"
   ]
  },
  {
   "cell_type": "code",
   "execution_count": null,
   "metadata": {},
   "outputs": [],
   "source": [
    "%sx if (test -d \"./COVID-19\"); then echo \"COVID-19 data already installed - get to work\"; else echo \"Clone the data repository to the $HOME/work directory\"; fi"
   ]
  },
  {
   "cell_type": "markdown",
   "metadata": {},
   "source": [
    "### Clone the COVID-19 directory"
   ]
  },
  {
   "cell_type": "code",
   "execution_count": null,
   "metadata": {},
   "outputs": [],
   "source": [
    "%sx git clone https://github.com/CSSEGISandData/COVID-19.git"
   ]
  },
  {
   "cell_type": "markdown",
   "metadata": {},
   "source": [
    "Great - now, [GET TO WORK](./COVIDvu.ipynb)"
   ]
  },
  {
   "cell_type": "markdown",
   "metadata": {},
   "source": [
    "---\n",
    "## rclone configuration\n",
    "\n",
    "The `refreshdata` script uses [`rclone`](https://rclone.org/) for moving the JSON data files to the website S3 bucket.  It requires a sample configuration file in the same directory.  A sample configuration file, `rclone.conf.SAMPLE` is provided.  Provide the appropriate AWS keys to gain access to the bucket."
   ]
  },
  {
   "cell_type": "markdown",
   "metadata": {},
   "source": [
    "---\n",
    "## Git branches management\n",
    "\n",
    "### Remove stale origin/branches"
   ]
  },
  {
   "cell_type": "code",
   "execution_count": null,
   "metadata": {},
   "outputs": [],
   "source": [
    "%sx git fetch --prune"
   ]
  },
  {
   "cell_type": "markdown",
   "metadata": {},
   "source": [
    "### Remove all local branches except master and active"
   ]
  },
  {
   "cell_type": "code",
   "execution_count": null,
   "metadata": {},
   "outputs": [],
   "source": [
    "%sx git branch | awk '!/\\*/ && !/master/ { system(sprintf(\"git branch -D %s\", $1))}'"
   ]
  },
  {
   "cell_type": "markdown",
   "metadata": {},
   "source": [
    "---\n",
    "## Improve the command prompt and environment\n",
    "\n",
    "Update the shell environment with a customizable `.bash_profile` "
   ]
  },
  {
   "cell_type": "code",
   "execution_count": null,
   "metadata": {},
   "outputs": [],
   "source": [
    "%sx if [[ -e \"../.bash_profile\" ]]; then echo \".bash_profile already installed in $HOME\"; else cp -v \"../resources/_bash_profile\" \"../.bash_profile\"; fi"
   ]
  },
  {
   "cell_type": "markdown",
   "metadata": {},
   "source": [
    "Any new terminals will use the .bash_profile configuration.  This file isn't under version control, so users are free to customize it at will."
   ]
  },
  {
   "cell_type": "markdown",
   "metadata": {},
   "source": [
    "### nbstripout - strips all output from notebooks before a commit\n",
    "\n",
    "This only needs to run once per repository.  The configuration file alread exists in `./work/.pre-commit-config.yaml`, run this command to avoid having to clear all the Notebooks by hand."
   ]
  },
  {
   "cell_type": "code",
   "execution_count": null,
   "metadata": {},
   "outputs": [],
   "source": [
    "!! [[ -n $(which pre-commit) ]] && pre-commit install"
   ]
  },
  {
   "cell_type": "markdown",
   "metadata": {},
   "source": [
    "---\n",
    "## Vim and NERDTree support\n",
    "\n",
    "A complete command line development environment for Python shipped with this project.  Vim is the default programming editor, available in any terminal.  (NERDTree)[https://github.com/preservim/nerdtree] will simplify file system operations."
   ]
  },
  {
   "cell_type": "markdown",
   "metadata": {},
   "source": [
    "### Check NERDTree availability"
   ]
  },
  {
   "cell_type": "code",
   "execution_count": null,
   "metadata": {},
   "outputs": [],
   "source": [
    "%sx if (test -d \"$HOME/.vim/pack/vendor/start/nerdtree\"); then echo \"NERDTree is installed and ready\"; else echo \"NERDTree is NOT installed\"; fi"
   ]
  },
  {
   "cell_type": "markdown",
   "metadata": {},
   "source": [
    "### Install NERDTree"
   ]
  },
  {
   "cell_type": "code",
   "execution_count": null,
   "metadata": {},
   "outputs": [],
   "source": [
    "%sx git clone https://github.com/preservim/nerdtree.git ~/.vim/pack/vendor/start/nerdtree"
   ]
  },
  {
   "cell_type": "code",
   "execution_count": null,
   "metadata": {},
   "outputs": [],
   "source": [
    "%sx vim -u NONE -c \"helptags ~/.vim/pack/vendor/start/nerdtree/doc\" -c q"
   ]
  },
  {
   "cell_type": "markdown",
   "metadata": {},
   "source": [
    "---"
   ]
  },
  {
   "cell_type": "markdown",
   "metadata": {},
   "source": [
    "## Virtual environment & package installation\n",
    "\n",
    "To set up a virtual environment, ensure that python3 and virtualenv are installed and added to your path. Then [create and activate a virtual environment](https://packaging.python.org/guides/installing-using-pip-and-virtual-environments/),\n",
    "\n",
    "On Linux or macOS:\n",
    "```\n",
    "python3 -m pip install --user virtualenv\n",
    "```\n",
    "On Windows:\n",
    "```\n",
    "py -m venv env\n",
    "```\n",
    "\n",
    "Then, on Linux or macOS:\n",
    "```\n",
    "source env/bin/activate\n",
    "```\n",
    "on Windows:\n",
    "```\n",
    ".\\env\\Scripts\\activate\n",
    "```\n",
    "\n",
    "Once the virtual environment is activated, install the following packages:\n",
    "```\n",
    "pip install -r requirements.txt\n",
    "```\n",
    "\n",
    "Launch jupyter notebook by entering into your terminal\n",
    "```\n",
    "jupyter notebook\n",
    "```"
   ]
  },
  {
   "cell_type": "markdown",
   "metadata": {},
   "source": [
    "---\n",
    "&#169; pr3d4t0r - BSD-3 license - https://github.com/pr3d4t0r/COVIDvu"
   ]
  }
 ],
 "metadata": {
  "kernelspec": {
   "display_name": "Python 3",
   "language": "python",
   "name": "python3"
  },
  "language_info": {
   "codemirror_mode": {
    "name": "ipython",
    "version": 3
   },
   "file_extension": ".py",
   "mimetype": "text/x-python",
   "name": "python",
   "nbconvert_exporter": "python",
   "pygments_lexer": "ipython3",
   "version": "3.8.1"
  }
 },
 "nbformat": 4,
 "nbformat_minor": 4
}
